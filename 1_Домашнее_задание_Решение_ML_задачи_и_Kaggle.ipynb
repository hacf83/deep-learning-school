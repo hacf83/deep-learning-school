{
  "nbformat": 4,
  "nbformat_minor": 0,
  "metadata": {
    "colab": {
      "name": "1_Домашнее_задание_Решение_ML_задачи_и_Kaggle.ipynb",
      "provenance": [],
      "collapsed_sections": [
        "OJdmtWiIppM5",
        "Gde3b-jRsRXU",
        "ewiq64oYxEDT",
        "54x6NChtx4QE",
        "kSuOKbehzkuP",
        "Oa81RVYN0Jyq",
        "XIxjs8sAAeSI",
        "mEx0khBEFV10",
        "ineWuwycdD1J",
        "WZWQPoJEc9K8",
        "tB4dutiPh8nE",
        "xixUDDbpnKFK",
        "GlOVNVnDOpge"
      ]
    },
    "kernelspec": {
      "name": "python3",
      "display_name": "Python 3"
    },
    "language_info": {
      "name": "python"
    }
  },
  "cells": [
    {
      "cell_type": "code",
      "metadata": {
        "id": "PDzgDytQ5tnl",
        "colab": {
          "base_uri": "https://localhost:8080/"
        },
        "outputId": "cdaf52ee-4d40-4aff-a45d-337155e03967"
      },
      "source": [
        "!pip install catboost"
      ],
      "execution_count": null,
      "outputs": [
        {
          "output_type": "stream",
          "name": "stdout",
          "text": [
            "Requirement already satisfied: catboost in /usr/local/lib/python3.7/dist-packages (1.0.3)\n",
            "Requirement already satisfied: graphviz in /usr/local/lib/python3.7/dist-packages (from catboost) (0.10.1)\n",
            "Requirement already satisfied: numpy>=1.16.0 in /usr/local/lib/python3.7/dist-packages (from catboost) (1.19.5)\n",
            "Requirement already satisfied: six in /usr/local/lib/python3.7/dist-packages (from catboost) (1.15.0)\n",
            "Requirement already satisfied: matplotlib in /usr/local/lib/python3.7/dist-packages (from catboost) (3.2.2)\n",
            "Requirement already satisfied: plotly in /usr/local/lib/python3.7/dist-packages (from catboost) (4.4.1)\n",
            "Requirement already satisfied: pandas>=0.24.0 in /usr/local/lib/python3.7/dist-packages (from catboost) (1.1.5)\n",
            "Requirement already satisfied: scipy in /usr/local/lib/python3.7/dist-packages (from catboost) (1.4.1)\n",
            "Requirement already satisfied: python-dateutil>=2.7.3 in /usr/local/lib/python3.7/dist-packages (from pandas>=0.24.0->catboost) (2.8.2)\n",
            "Requirement already satisfied: pytz>=2017.2 in /usr/local/lib/python3.7/dist-packages (from pandas>=0.24.0->catboost) (2018.9)\n",
            "Requirement already satisfied: cycler>=0.10 in /usr/local/lib/python3.7/dist-packages (from matplotlib->catboost) (0.11.0)\n",
            "Requirement already satisfied: kiwisolver>=1.0.1 in /usr/local/lib/python3.7/dist-packages (from matplotlib->catboost) (1.3.2)\n",
            "Requirement already satisfied: pyparsing!=2.0.4,!=2.1.2,!=2.1.6,>=2.0.1 in /usr/local/lib/python3.7/dist-packages (from matplotlib->catboost) (2.4.7)\n",
            "Requirement already satisfied: retrying>=1.3.3 in /usr/local/lib/python3.7/dist-packages (from plotly->catboost) (1.3.3)\n"
          ]
        }
      ]
    },
    {
      "cell_type": "code",
      "metadata": {
        "id": "SfsdW99koVT0"
      },
      "source": [
        "import pandas as pd\n",
        "import numpy as np\n",
        "from matplotlib import pyplot as plt\n",
        "from matplotlib import cm\n",
        "import seaborn as sns\n",
        "from sklearn.preprocessing import OneHotEncoder, MinMaxScaler\n",
        "from sklearn.model_selection import train_test_split, GridSearchCV\n",
        "from sklearn.pipeline import make_pipeline\n",
        "from sklearn.linear_model import LogisticRegression\n",
        "from sklearn.metrics import roc_auc_score, roc_curve\n",
        "from sklearn.tree import DecisionTreeClassifier\n",
        "from sklearn.ensemble import RandomForestClassifier\n",
        "from catboost import CatBoostClassifier"
      ],
      "execution_count": null,
      "outputs": []
    },
    {
      "cell_type": "markdown",
      "metadata": {
        "id": "OJdmtWiIppM5"
      },
      "source": [
        "## Загрузка данных (2 балла)"
      ]
    },
    {
      "cell_type": "code",
      "metadata": {
        "id": "MQmeav6Hpq1c"
      },
      "source": [
        "df = pd.read_csv('train.csv')"
      ],
      "execution_count": null,
      "outputs": []
    },
    {
      "cell_type": "code",
      "metadata": {
        "id": "r3SIc0FIqzbX"
      },
      "source": [
        "# Числовые признаки\n",
        "num_cols = ['ClientPeriod', 'MonthlySpending', 'TotalSpent']\n",
        "\n",
        "# Категориальные признаки\n",
        "cat_cols = ['Sex',\n",
        "    'IsSeniorCitizen',\n",
        "    'HasPartner',\n",
        "    'HasChild',\n",
        "    'HasPhoneService',\n",
        "    'HasMultiplePhoneNumbers',\n",
        "    'HasInternetService',\n",
        "    'HasOnlineSecurityService',\n",
        "    'HasOnlineBackup',\n",
        "    'HasDeviceProtection',\n",
        "    'HasTechSupportAccess',\n",
        "    'HasOnlineTV',\n",
        "    'HasMovieSubscription',\n",
        "    'HasContractPhone',\n",
        "    'IsBillingPaperless',\n",
        "    'PaymentMethod'\n",
        "]\n",
        "\n",
        "feature_cols = num_cols + cat_cols\n",
        "target_col = 'Churn'"
      ],
      "execution_count": null,
      "outputs": []
    },
    {
      "cell_type": "markdown",
      "metadata": {
        "id": "n4us7xrJ8ITh"
      },
      "source": [
        "Посмотрим на 10 случайных строчек:"
      ]
    },
    {
      "cell_type": "code",
      "metadata": {
        "id": "wXRH7nG-rSp6",
        "colab": {
          "base_uri": "https://localhost:8080/"
        },
        "outputId": "d6f1fb64-8f6f-4f2b-828d-024aa4c232d1"
      },
      "source": [
        "df.sample(10)"
      ],
      "execution_count": null,
      "outputs": [
        {
          "output_type": "execute_result",
          "data": {
            "text/html": [
              "<div>\n",
              "<style scoped>\n",
              "    .dataframe tbody tr th:only-of-type {\n",
              "        vertical-align: middle;\n",
              "    }\n",
              "\n",
              "    .dataframe tbody tr th {\n",
              "        vertical-align: top;\n",
              "    }\n",
              "\n",
              "    .dataframe thead th {\n",
              "        text-align: right;\n",
              "    }\n",
              "</style>\n",
              "<table border=\"1\" class=\"dataframe\">\n",
              "  <thead>\n",
              "    <tr style=\"text-align: right;\">\n",
              "      <th></th>\n",
              "      <th>ClientPeriod</th>\n",
              "      <th>MonthlySpending</th>\n",
              "      <th>TotalSpent</th>\n",
              "      <th>Sex</th>\n",
              "      <th>IsSeniorCitizen</th>\n",
              "      <th>HasPartner</th>\n",
              "      <th>HasChild</th>\n",
              "      <th>HasPhoneService</th>\n",
              "      <th>HasMultiplePhoneNumbers</th>\n",
              "      <th>HasInternetService</th>\n",
              "      <th>HasOnlineSecurityService</th>\n",
              "      <th>HasOnlineBackup</th>\n",
              "      <th>HasDeviceProtection</th>\n",
              "      <th>HasTechSupportAccess</th>\n",
              "      <th>HasOnlineTV</th>\n",
              "      <th>HasMovieSubscription</th>\n",
              "      <th>HasContractPhone</th>\n",
              "      <th>IsBillingPaperless</th>\n",
              "      <th>PaymentMethod</th>\n",
              "      <th>Churn</th>\n",
              "    </tr>\n",
              "  </thead>\n",
              "  <tbody>\n",
              "    <tr>\n",
              "      <th>4449</th>\n",
              "      <td>19</td>\n",
              "      <td>100.95</td>\n",
              "      <td>1875.55</td>\n",
              "      <td>Male</td>\n",
              "      <td>0</td>\n",
              "      <td>Yes</td>\n",
              "      <td>Yes</td>\n",
              "      <td>Yes</td>\n",
              "      <td>Yes</td>\n",
              "      <td>Fiber optic</td>\n",
              "      <td>No</td>\n",
              "      <td>No</td>\n",
              "      <td>No</td>\n",
              "      <td>Yes</td>\n",
              "      <td>Yes</td>\n",
              "      <td>Yes</td>\n",
              "      <td>One year</td>\n",
              "      <td>Yes</td>\n",
              "      <td>Electronic check</td>\n",
              "      <td>1</td>\n",
              "    </tr>\n",
              "    <tr>\n",
              "      <th>4040</th>\n",
              "      <td>1</td>\n",
              "      <td>50.15</td>\n",
              "      <td>50.15</td>\n",
              "      <td>Male</td>\n",
              "      <td>0</td>\n",
              "      <td>No</td>\n",
              "      <td>No</td>\n",
              "      <td>Yes</td>\n",
              "      <td>Yes</td>\n",
              "      <td>DSL</td>\n",
              "      <td>No</td>\n",
              "      <td>No</td>\n",
              "      <td>No</td>\n",
              "      <td>No</td>\n",
              "      <td>No</td>\n",
              "      <td>No</td>\n",
              "      <td>Month-to-month</td>\n",
              "      <td>Yes</td>\n",
              "      <td>Electronic check</td>\n",
              "      <td>0</td>\n",
              "    </tr>\n",
              "    <tr>\n",
              "      <th>2313</th>\n",
              "      <td>24</td>\n",
              "      <td>98.75</td>\n",
              "      <td>2407.3</td>\n",
              "      <td>Female</td>\n",
              "      <td>0</td>\n",
              "      <td>No</td>\n",
              "      <td>No</td>\n",
              "      <td>Yes</td>\n",
              "      <td>Yes</td>\n",
              "      <td>Fiber optic</td>\n",
              "      <td>No</td>\n",
              "      <td>No</td>\n",
              "      <td>Yes</td>\n",
              "      <td>No</td>\n",
              "      <td>Yes</td>\n",
              "      <td>Yes</td>\n",
              "      <td>Month-to-month</td>\n",
              "      <td>Yes</td>\n",
              "      <td>Electronic check</td>\n",
              "      <td>1</td>\n",
              "    </tr>\n",
              "    <tr>\n",
              "      <th>4896</th>\n",
              "      <td>7</td>\n",
              "      <td>71.35</td>\n",
              "      <td>515.75</td>\n",
              "      <td>Male</td>\n",
              "      <td>0</td>\n",
              "      <td>Yes</td>\n",
              "      <td>Yes</td>\n",
              "      <td>Yes</td>\n",
              "      <td>No</td>\n",
              "      <td>DSL</td>\n",
              "      <td>Yes</td>\n",
              "      <td>No</td>\n",
              "      <td>Yes</td>\n",
              "      <td>Yes</td>\n",
              "      <td>No</td>\n",
              "      <td>Yes</td>\n",
              "      <td>Month-to-month</td>\n",
              "      <td>Yes</td>\n",
              "      <td>Credit card (automatic)</td>\n",
              "      <td>0</td>\n",
              "    </tr>\n",
              "    <tr>\n",
              "      <th>749</th>\n",
              "      <td>1</td>\n",
              "      <td>19.90</td>\n",
              "      <td>19.9</td>\n",
              "      <td>Female</td>\n",
              "      <td>0</td>\n",
              "      <td>No</td>\n",
              "      <td>No</td>\n",
              "      <td>Yes</td>\n",
              "      <td>No</td>\n",
              "      <td>No</td>\n",
              "      <td>No internet service</td>\n",
              "      <td>No internet service</td>\n",
              "      <td>No internet service</td>\n",
              "      <td>No internet service</td>\n",
              "      <td>No internet service</td>\n",
              "      <td>No internet service</td>\n",
              "      <td>Month-to-month</td>\n",
              "      <td>No</td>\n",
              "      <td>Bank transfer (automatic)</td>\n",
              "      <td>0</td>\n",
              "    </tr>\n",
              "    <tr>\n",
              "      <th>4418</th>\n",
              "      <td>1</td>\n",
              "      <td>74.60</td>\n",
              "      <td>74.6</td>\n",
              "      <td>Male</td>\n",
              "      <td>0</td>\n",
              "      <td>Yes</td>\n",
              "      <td>No</td>\n",
              "      <td>Yes</td>\n",
              "      <td>Yes</td>\n",
              "      <td>Fiber optic</td>\n",
              "      <td>No</td>\n",
              "      <td>No</td>\n",
              "      <td>No</td>\n",
              "      <td>No</td>\n",
              "      <td>No</td>\n",
              "      <td>No</td>\n",
              "      <td>Month-to-month</td>\n",
              "      <td>Yes</td>\n",
              "      <td>Bank transfer (automatic)</td>\n",
              "      <td>1</td>\n",
              "    </tr>\n",
              "    <tr>\n",
              "      <th>3395</th>\n",
              "      <td>70</td>\n",
              "      <td>105.55</td>\n",
              "      <td>7195.35</td>\n",
              "      <td>Female</td>\n",
              "      <td>1</td>\n",
              "      <td>Yes</td>\n",
              "      <td>No</td>\n",
              "      <td>Yes</td>\n",
              "      <td>Yes</td>\n",
              "      <td>Fiber optic</td>\n",
              "      <td>No</td>\n",
              "      <td>Yes</td>\n",
              "      <td>No</td>\n",
              "      <td>Yes</td>\n",
              "      <td>Yes</td>\n",
              "      <td>Yes</td>\n",
              "      <td>One year</td>\n",
              "      <td>Yes</td>\n",
              "      <td>Bank transfer (automatic)</td>\n",
              "      <td>0</td>\n",
              "    </tr>\n",
              "    <tr>\n",
              "      <th>4970</th>\n",
              "      <td>60</td>\n",
              "      <td>84.95</td>\n",
              "      <td>4984.85</td>\n",
              "      <td>Male</td>\n",
              "      <td>0</td>\n",
              "      <td>No</td>\n",
              "      <td>Yes</td>\n",
              "      <td>Yes</td>\n",
              "      <td>Yes</td>\n",
              "      <td>DSL</td>\n",
              "      <td>Yes</td>\n",
              "      <td>No</td>\n",
              "      <td>Yes</td>\n",
              "      <td>Yes</td>\n",
              "      <td>Yes</td>\n",
              "      <td>Yes</td>\n",
              "      <td>Two year</td>\n",
              "      <td>Yes</td>\n",
              "      <td>Electronic check</td>\n",
              "      <td>0</td>\n",
              "    </tr>\n",
              "    <tr>\n",
              "      <th>1466</th>\n",
              "      <td>40</td>\n",
              "      <td>54.55</td>\n",
              "      <td>2236.2</td>\n",
              "      <td>Female</td>\n",
              "      <td>0</td>\n",
              "      <td>No</td>\n",
              "      <td>No</td>\n",
              "      <td>No</td>\n",
              "      <td>No phone service</td>\n",
              "      <td>DSL</td>\n",
              "      <td>Yes</td>\n",
              "      <td>No</td>\n",
              "      <td>No</td>\n",
              "      <td>Yes</td>\n",
              "      <td>Yes</td>\n",
              "      <td>Yes</td>\n",
              "      <td>One year</td>\n",
              "      <td>Yes</td>\n",
              "      <td>Bank transfer (automatic)</td>\n",
              "      <td>0</td>\n",
              "    </tr>\n",
              "    <tr>\n",
              "      <th>3385</th>\n",
              "      <td>26</td>\n",
              "      <td>75.00</td>\n",
              "      <td>1908.35</td>\n",
              "      <td>Male</td>\n",
              "      <td>0</td>\n",
              "      <td>No</td>\n",
              "      <td>No</td>\n",
              "      <td>Yes</td>\n",
              "      <td>No</td>\n",
              "      <td>DSL</td>\n",
              "      <td>Yes</td>\n",
              "      <td>No</td>\n",
              "      <td>No</td>\n",
              "      <td>Yes</td>\n",
              "      <td>Yes</td>\n",
              "      <td>Yes</td>\n",
              "      <td>One year</td>\n",
              "      <td>No</td>\n",
              "      <td>Bank transfer (automatic)</td>\n",
              "      <td>0</td>\n",
              "    </tr>\n",
              "  </tbody>\n",
              "</table>\n",
              "</div>"
            ],
            "text/plain": [
              "      ClientPeriod  MonthlySpending  ...              PaymentMethod Churn\n",
              "4449            19           100.95  ...           Electronic check     1\n",
              "4040             1            50.15  ...           Electronic check     0\n",
              "2313            24            98.75  ...           Electronic check     1\n",
              "4896             7            71.35  ...    Credit card (automatic)     0\n",
              "749              1            19.90  ...  Bank transfer (automatic)     0\n",
              "4418             1            74.60  ...  Bank transfer (automatic)     1\n",
              "3395            70           105.55  ...  Bank transfer (automatic)     0\n",
              "4970            60            84.95  ...           Electronic check     0\n",
              "1466            40            54.55  ...  Bank transfer (automatic)     0\n",
              "3385            26            75.00  ...  Bank transfer (automatic)     0\n",
              "\n",
              "[10 rows x 20 columns]"
            ]
          },
          "metadata": {},
          "execution_count": 178
        }
      ]
    },
    {
      "cell_type": "code",
      "metadata": {
        "id": "Y2r4hlD3rXu4",
        "colab": {
          "base_uri": "https://localhost:8080/"
        },
        "outputId": "bc3930b7-8ee0-4f83-d666-52e0d2872607"
      },
      "source": [
        "df.shape"
      ],
      "execution_count": null,
      "outputs": [
        {
          "output_type": "execute_result",
          "data": {
            "text/plain": [
              "(5282, 20)"
            ]
          },
          "metadata": {},
          "execution_count": 179
        }
      ]
    },
    {
      "cell_type": "markdown",
      "metadata": {
        "id": "OYipQgOu8OxT"
      },
      "source": [
        "Всего в датафрейме 5282 строки и 20 столбцов."
      ]
    },
    {
      "cell_type": "markdown",
      "metadata": {
        "id": "x4CnlWC18Nwe"
      },
      "source": [
        "Посчитаем количество значений NaN для каждого признака:"
      ]
    },
    {
      "cell_type": "code",
      "metadata": {
        "id": "mg0mYKOwsvDe",
        "colab": {
          "base_uri": "https://localhost:8080/"
        },
        "outputId": "8b81e393-530f-4494-95a5-1a8c28243342"
      },
      "source": [
        "df[feature_cols].isna().sum()"
      ],
      "execution_count": null,
      "outputs": [
        {
          "output_type": "execute_result",
          "data": {
            "text/plain": [
              "ClientPeriod                0\n",
              "MonthlySpending             0\n",
              "TotalSpent                  0\n",
              "Sex                         0\n",
              "IsSeniorCitizen             0\n",
              "HasPartner                  0\n",
              "HasChild                    0\n",
              "HasPhoneService             0\n",
              "HasMultiplePhoneNumbers     0\n",
              "HasInternetService          0\n",
              "HasOnlineSecurityService    0\n",
              "HasOnlineBackup             0\n",
              "HasDeviceProtection         0\n",
              "HasTechSupportAccess        0\n",
              "HasOnlineTV                 0\n",
              "HasMovieSubscription        0\n",
              "HasContractPhone            0\n",
              "IsBillingPaperless          0\n",
              "PaymentMethod               0\n",
              "dtype: int64"
            ]
          },
          "metadata": {},
          "execution_count": 180
        }
      ]
    },
    {
      "cell_type": "markdown",
      "metadata": {
        "id": "eNiizpsA8yk6"
      },
      "source": [
        "Значения NaN нигде не встречаются."
      ]
    },
    {
      "cell_type": "markdown",
      "metadata": {
        "id": "eF4h4AZ99Aax"
      },
      "source": [
        "Теперь посмотрим на общую информацию по датафрейму и всем признакам:"
      ]
    },
    {
      "cell_type": "code",
      "metadata": {
        "id": "fKzFd9_PrnuB",
        "colab": {
          "base_uri": "https://localhost:8080/"
        },
        "outputId": "ef140acf-887c-4a83-8810-0bde53c6a7a3"
      },
      "source": [
        "df[cat_cols].info()"
      ],
      "execution_count": null,
      "outputs": [
        {
          "output_type": "stream",
          "name": "stdout",
          "text": [
            "<class 'pandas.core.frame.DataFrame'>\n",
            "RangeIndex: 5282 entries, 0 to 5281\n",
            "Data columns (total 16 columns):\n",
            " #   Column                    Non-Null Count  Dtype \n",
            "---  ------                    --------------  ----- \n",
            " 0   Sex                       5282 non-null   object\n",
            " 1   IsSeniorCitizen           5282 non-null   int64 \n",
            " 2   HasPartner                5282 non-null   object\n",
            " 3   HasChild                  5282 non-null   object\n",
            " 4   HasPhoneService           5282 non-null   object\n",
            " 5   HasMultiplePhoneNumbers   5282 non-null   object\n",
            " 6   HasInternetService        5282 non-null   object\n",
            " 7   HasOnlineSecurityService  5282 non-null   object\n",
            " 8   HasOnlineBackup           5282 non-null   object\n",
            " 9   HasDeviceProtection       5282 non-null   object\n",
            " 10  HasTechSupportAccess      5282 non-null   object\n",
            " 11  HasOnlineTV               5282 non-null   object\n",
            " 12  HasMovieSubscription      5282 non-null   object\n",
            " 13  HasContractPhone          5282 non-null   object\n",
            " 14  IsBillingPaperless        5282 non-null   object\n",
            " 15  PaymentMethod             5282 non-null   object\n",
            "dtypes: int64(1), object(15)\n",
            "memory usage: 660.4+ KB\n"
          ]
        }
      ]
    },
    {
      "cell_type": "code",
      "metadata": {
        "id": "7Q1RYnmkrqOw",
        "colab": {
          "base_uri": "https://localhost:8080/"
        },
        "outputId": "ef6f31a5-5192-40bb-ec68-518a855015c3"
      },
      "source": [
        "df[num_cols].info()"
      ],
      "execution_count": null,
      "outputs": [
        {
          "output_type": "stream",
          "name": "stdout",
          "text": [
            "<class 'pandas.core.frame.DataFrame'>\n",
            "RangeIndex: 5282 entries, 0 to 5281\n",
            "Data columns (total 3 columns):\n",
            " #   Column           Non-Null Count  Dtype  \n",
            "---  ------           --------------  -----  \n",
            " 0   ClientPeriod     5282 non-null   int64  \n",
            " 1   MonthlySpending  5282 non-null   float64\n",
            " 2   TotalSpent       5282 non-null   object \n",
            "dtypes: float64(1), int64(1), object(1)\n",
            "memory usage: 123.9+ KB\n"
          ]
        }
      ]
    },
    {
      "cell_type": "markdown",
      "metadata": {
        "id": "sFOtRy0P9JEQ"
      },
      "source": [
        "Снова убеждаемся, что нет NaN значений. Однако, pandas не совсем правильно определил типы данных для столбцов `IsSeniorCitizen` и `TotalSpent`."
      ]
    },
    {
      "cell_type": "markdown",
      "metadata": {
        "id": "NveAxt5T9V92"
      },
      "source": [
        "Приведем столбец `IsSeniorCitizen` к типу object."
      ]
    },
    {
      "cell_type": "code",
      "metadata": {
        "id": "mbf2PkForvW7",
        "colab": {
          "base_uri": "https://localhost:8080/"
        },
        "outputId": "4c5fbcbd-ec0b-46a8-a261-e939aa317fec"
      },
      "source": [
        "df['IsSeniorCitizen'] = df['IsSeniorCitizen'].astype('object')\n",
        "df['IsSeniorCitizen'].dtype"
      ],
      "execution_count": null,
      "outputs": [
        {
          "output_type": "execute_result",
          "data": {
            "text/plain": [
              "dtype('O')"
            ]
          },
          "metadata": {},
          "execution_count": 183
        }
      ]
    },
    {
      "cell_type": "markdown",
      "metadata": {
        "id": "zQX8Dgmf9rdW"
      },
      "source": [
        "Просто привести столбец `TotalSpent` к типу float64 не получится, так как там встречаются строковые значения."
      ]
    },
    {
      "cell_type": "code",
      "metadata": {
        "id": "KL-c5G5rrz7B",
        "colab": {
          "base_uri": "https://localhost:8080/"
        },
        "outputId": "c61aaeeb-e471-451c-9cd3-8097be3e8920"
      },
      "source": [
        "df['TotalSpent'].value_counts()"
      ],
      "execution_count": null,
      "outputs": [
        {
          "output_type": "execute_result",
          "data": {
            "text/plain": [
              "20.2       9\n",
              "           9\n",
              "19.75      8\n",
              "20.05      6\n",
              "19.65      6\n",
              "          ..\n",
              "268.4      1\n",
              "2839.45    1\n",
              "2723.75    1\n",
              "1874.45    1\n",
              "558.8      1\n",
              "Name: TotalSpent, Length: 4978, dtype: int64"
            ]
          },
          "metadata": {},
          "execution_count": 184
        }
      ]
    },
    {
      "cell_type": "code",
      "metadata": {
        "id": "k3XI3Ak4r4mY",
        "colab": {
          "base_uri": "https://localhost:8080/"
        },
        "outputId": "adc9f7ad-b0e9-49cf-f088-3585c052c3b3"
      },
      "source": [
        "sum(df['TotalSpent'] == ' ')"
      ],
      "execution_count": null,
      "outputs": [
        {
          "output_type": "execute_result",
          "data": {
            "text/plain": [
              "9"
            ]
          },
          "metadata": {},
          "execution_count": 185
        }
      ]
    },
    {
      "cell_type": "markdown",
      "metadata": {
        "id": "147P5xo297Cd"
      },
      "source": [
        "В датафрейме 9 клиентов, у которых есть пробелы в столбце `TotalSpent`. Посмотрим на остальные признаки этих клиентов:"
      ]
    },
    {
      "cell_type": "code",
      "metadata": {
        "id": "s8lSYGSnr7wJ",
        "colab": {
          "base_uri": "https://localhost:8080/"
        },
        "outputId": "ad6b0a53-f746-4a3a-b202-fa66d512cdcb"
      },
      "source": [
        "df[df['TotalSpent'] == ' ']"
      ],
      "execution_count": null,
      "outputs": [
        {
          "output_type": "execute_result",
          "data": {
            "text/html": [
              "<div>\n",
              "<style scoped>\n",
              "    .dataframe tbody tr th:only-of-type {\n",
              "        vertical-align: middle;\n",
              "    }\n",
              "\n",
              "    .dataframe tbody tr th {\n",
              "        vertical-align: top;\n",
              "    }\n",
              "\n",
              "    .dataframe thead th {\n",
              "        text-align: right;\n",
              "    }\n",
              "</style>\n",
              "<table border=\"1\" class=\"dataframe\">\n",
              "  <thead>\n",
              "    <tr style=\"text-align: right;\">\n",
              "      <th></th>\n",
              "      <th>ClientPeriod</th>\n",
              "      <th>MonthlySpending</th>\n",
              "      <th>TotalSpent</th>\n",
              "      <th>Sex</th>\n",
              "      <th>IsSeniorCitizen</th>\n",
              "      <th>HasPartner</th>\n",
              "      <th>HasChild</th>\n",
              "      <th>HasPhoneService</th>\n",
              "      <th>HasMultiplePhoneNumbers</th>\n",
              "      <th>HasInternetService</th>\n",
              "      <th>HasOnlineSecurityService</th>\n",
              "      <th>HasOnlineBackup</th>\n",
              "      <th>HasDeviceProtection</th>\n",
              "      <th>HasTechSupportAccess</th>\n",
              "      <th>HasOnlineTV</th>\n",
              "      <th>HasMovieSubscription</th>\n",
              "      <th>HasContractPhone</th>\n",
              "      <th>IsBillingPaperless</th>\n",
              "      <th>PaymentMethod</th>\n",
              "      <th>Churn</th>\n",
              "    </tr>\n",
              "  </thead>\n",
              "  <tbody>\n",
              "    <tr>\n",
              "      <th>1048</th>\n",
              "      <td>0</td>\n",
              "      <td>25.75</td>\n",
              "      <td></td>\n",
              "      <td>Male</td>\n",
              "      <td>0</td>\n",
              "      <td>Yes</td>\n",
              "      <td>Yes</td>\n",
              "      <td>Yes</td>\n",
              "      <td>Yes</td>\n",
              "      <td>No</td>\n",
              "      <td>No internet service</td>\n",
              "      <td>No internet service</td>\n",
              "      <td>No internet service</td>\n",
              "      <td>No internet service</td>\n",
              "      <td>No internet service</td>\n",
              "      <td>No internet service</td>\n",
              "      <td>Two year</td>\n",
              "      <td>No</td>\n",
              "      <td>Mailed check</td>\n",
              "      <td>0</td>\n",
              "    </tr>\n",
              "    <tr>\n",
              "      <th>1707</th>\n",
              "      <td>0</td>\n",
              "      <td>73.35</td>\n",
              "      <td></td>\n",
              "      <td>Female</td>\n",
              "      <td>0</td>\n",
              "      <td>Yes</td>\n",
              "      <td>Yes</td>\n",
              "      <td>Yes</td>\n",
              "      <td>Yes</td>\n",
              "      <td>DSL</td>\n",
              "      <td>No</td>\n",
              "      <td>Yes</td>\n",
              "      <td>Yes</td>\n",
              "      <td>Yes</td>\n",
              "      <td>Yes</td>\n",
              "      <td>No</td>\n",
              "      <td>Two year</td>\n",
              "      <td>No</td>\n",
              "      <td>Mailed check</td>\n",
              "      <td>0</td>\n",
              "    </tr>\n",
              "    <tr>\n",
              "      <th>2543</th>\n",
              "      <td>0</td>\n",
              "      <td>19.70</td>\n",
              "      <td></td>\n",
              "      <td>Male</td>\n",
              "      <td>0</td>\n",
              "      <td>Yes</td>\n",
              "      <td>Yes</td>\n",
              "      <td>Yes</td>\n",
              "      <td>No</td>\n",
              "      <td>No</td>\n",
              "      <td>No internet service</td>\n",
              "      <td>No internet service</td>\n",
              "      <td>No internet service</td>\n",
              "      <td>No internet service</td>\n",
              "      <td>No internet service</td>\n",
              "      <td>No internet service</td>\n",
              "      <td>One year</td>\n",
              "      <td>Yes</td>\n",
              "      <td>Mailed check</td>\n",
              "      <td>0</td>\n",
              "    </tr>\n",
              "    <tr>\n",
              "      <th>3078</th>\n",
              "      <td>0</td>\n",
              "      <td>80.85</td>\n",
              "      <td></td>\n",
              "      <td>Female</td>\n",
              "      <td>0</td>\n",
              "      <td>Yes</td>\n",
              "      <td>Yes</td>\n",
              "      <td>Yes</td>\n",
              "      <td>No</td>\n",
              "      <td>DSL</td>\n",
              "      <td>Yes</td>\n",
              "      <td>Yes</td>\n",
              "      <td>Yes</td>\n",
              "      <td>No</td>\n",
              "      <td>Yes</td>\n",
              "      <td>Yes</td>\n",
              "      <td>Two year</td>\n",
              "      <td>No</td>\n",
              "      <td>Mailed check</td>\n",
              "      <td>0</td>\n",
              "    </tr>\n",
              "    <tr>\n",
              "      <th>3697</th>\n",
              "      <td>0</td>\n",
              "      <td>20.00</td>\n",
              "      <td></td>\n",
              "      <td>Female</td>\n",
              "      <td>0</td>\n",
              "      <td>Yes</td>\n",
              "      <td>Yes</td>\n",
              "      <td>Yes</td>\n",
              "      <td>No</td>\n",
              "      <td>No</td>\n",
              "      <td>No internet service</td>\n",
              "      <td>No internet service</td>\n",
              "      <td>No internet service</td>\n",
              "      <td>No internet service</td>\n",
              "      <td>No internet service</td>\n",
              "      <td>No internet service</td>\n",
              "      <td>Two year</td>\n",
              "      <td>No</td>\n",
              "      <td>Mailed check</td>\n",
              "      <td>0</td>\n",
              "    </tr>\n",
              "    <tr>\n",
              "      <th>4002</th>\n",
              "      <td>0</td>\n",
              "      <td>61.90</td>\n",
              "      <td></td>\n",
              "      <td>Male</td>\n",
              "      <td>0</td>\n",
              "      <td>No</td>\n",
              "      <td>Yes</td>\n",
              "      <td>Yes</td>\n",
              "      <td>Yes</td>\n",
              "      <td>DSL</td>\n",
              "      <td>Yes</td>\n",
              "      <td>Yes</td>\n",
              "      <td>No</td>\n",
              "      <td>Yes</td>\n",
              "      <td>No</td>\n",
              "      <td>No</td>\n",
              "      <td>Two year</td>\n",
              "      <td>Yes</td>\n",
              "      <td>Bank transfer (automatic)</td>\n",
              "      <td>0</td>\n",
              "    </tr>\n",
              "    <tr>\n",
              "      <th>4326</th>\n",
              "      <td>0</td>\n",
              "      <td>25.35</td>\n",
              "      <td></td>\n",
              "      <td>Male</td>\n",
              "      <td>0</td>\n",
              "      <td>Yes</td>\n",
              "      <td>Yes</td>\n",
              "      <td>Yes</td>\n",
              "      <td>Yes</td>\n",
              "      <td>No</td>\n",
              "      <td>No internet service</td>\n",
              "      <td>No internet service</td>\n",
              "      <td>No internet service</td>\n",
              "      <td>No internet service</td>\n",
              "      <td>No internet service</td>\n",
              "      <td>No internet service</td>\n",
              "      <td>Two year</td>\n",
              "      <td>No</td>\n",
              "      <td>Mailed check</td>\n",
              "      <td>0</td>\n",
              "    </tr>\n",
              "    <tr>\n",
              "      <th>4551</th>\n",
              "      <td>0</td>\n",
              "      <td>52.55</td>\n",
              "      <td></td>\n",
              "      <td>Female</td>\n",
              "      <td>0</td>\n",
              "      <td>Yes</td>\n",
              "      <td>Yes</td>\n",
              "      <td>No</td>\n",
              "      <td>No phone service</td>\n",
              "      <td>DSL</td>\n",
              "      <td>Yes</td>\n",
              "      <td>No</td>\n",
              "      <td>Yes</td>\n",
              "      <td>Yes</td>\n",
              "      <td>Yes</td>\n",
              "      <td>No</td>\n",
              "      <td>Two year</td>\n",
              "      <td>Yes</td>\n",
              "      <td>Bank transfer (automatic)</td>\n",
              "      <td>0</td>\n",
              "    </tr>\n",
              "    <tr>\n",
              "      <th>4598</th>\n",
              "      <td>0</td>\n",
              "      <td>56.05</td>\n",
              "      <td></td>\n",
              "      <td>Female</td>\n",
              "      <td>0</td>\n",
              "      <td>Yes</td>\n",
              "      <td>Yes</td>\n",
              "      <td>No</td>\n",
              "      <td>No phone service</td>\n",
              "      <td>DSL</td>\n",
              "      <td>Yes</td>\n",
              "      <td>Yes</td>\n",
              "      <td>Yes</td>\n",
              "      <td>Yes</td>\n",
              "      <td>Yes</td>\n",
              "      <td>No</td>\n",
              "      <td>Two year</td>\n",
              "      <td>No</td>\n",
              "      <td>Credit card (automatic)</td>\n",
              "      <td>0</td>\n",
              "    </tr>\n",
              "  </tbody>\n",
              "</table>\n",
              "</div>"
            ],
            "text/plain": [
              "      ClientPeriod  MonthlySpending  ...              PaymentMethod Churn\n",
              "1048             0            25.75  ...               Mailed check     0\n",
              "1707             0            73.35  ...               Mailed check     0\n",
              "2543             0            19.70  ...               Mailed check     0\n",
              "3078             0            80.85  ...               Mailed check     0\n",
              "3697             0            20.00  ...               Mailed check     0\n",
              "4002             0            61.90  ...  Bank transfer (automatic)     0\n",
              "4326             0            25.35  ...               Mailed check     0\n",
              "4551             0            52.55  ...  Bank transfer (automatic)     0\n",
              "4598             0            56.05  ...    Credit card (automatic)     0\n",
              "\n",
              "[9 rows x 20 columns]"
            ]
          },
          "metadata": {},
          "execution_count": 186
        }
      ]
    },
    {
      "cell_type": "markdown",
      "metadata": {
        "id": "tyx3bwXP-LdR"
      },
      "source": [
        "Для всех таких клиентов столбец `ClientPeriod` равен 0. То есть это новые клиенты, которые и месяц не пользовались услугами, от этого и в `TotalSpent` у них пробелы. Возможно, при заключении договора об оказании услуг принято платить какую-то сумму, а может нет. Проверим это, посмотрев на значения `MonthlySpending` и `TotalSpent` клиентов, у которых `ClientPeriod` равен 1:"
      ]
    },
    {
      "cell_type": "code",
      "metadata": {
        "colab": {
          "base_uri": "https://localhost:8080/"
        },
        "id": "EIkO3R9HBSc_",
        "outputId": "6bb65a95-69f6-46ea-e7d9-c62307354176"
      },
      "source": [
        "ClientPeriod1 = df[df['ClientPeriod'] == 1]\n",
        "ClientPeriod1.head()"
      ],
      "execution_count": null,
      "outputs": [
        {
          "output_type": "execute_result",
          "data": {
            "text/html": [
              "<div>\n",
              "<style scoped>\n",
              "    .dataframe tbody tr th:only-of-type {\n",
              "        vertical-align: middle;\n",
              "    }\n",
              "\n",
              "    .dataframe tbody tr th {\n",
              "        vertical-align: top;\n",
              "    }\n",
              "\n",
              "    .dataframe thead th {\n",
              "        text-align: right;\n",
              "    }\n",
              "</style>\n",
              "<table border=\"1\" class=\"dataframe\">\n",
              "  <thead>\n",
              "    <tr style=\"text-align: right;\">\n",
              "      <th></th>\n",
              "      <th>ClientPeriod</th>\n",
              "      <th>MonthlySpending</th>\n",
              "      <th>TotalSpent</th>\n",
              "      <th>Sex</th>\n",
              "      <th>IsSeniorCitizen</th>\n",
              "      <th>HasPartner</th>\n",
              "      <th>HasChild</th>\n",
              "      <th>HasPhoneService</th>\n",
              "      <th>HasMultiplePhoneNumbers</th>\n",
              "      <th>HasInternetService</th>\n",
              "      <th>HasOnlineSecurityService</th>\n",
              "      <th>HasOnlineBackup</th>\n",
              "      <th>HasDeviceProtection</th>\n",
              "      <th>HasTechSupportAccess</th>\n",
              "      <th>HasOnlineTV</th>\n",
              "      <th>HasMovieSubscription</th>\n",
              "      <th>HasContractPhone</th>\n",
              "      <th>IsBillingPaperless</th>\n",
              "      <th>PaymentMethod</th>\n",
              "      <th>Churn</th>\n",
              "    </tr>\n",
              "  </thead>\n",
              "  <tbody>\n",
              "    <tr>\n",
              "      <th>2</th>\n",
              "      <td>1</td>\n",
              "      <td>75.90</td>\n",
              "      <td>75.9</td>\n",
              "      <td>Male</td>\n",
              "      <td>0</td>\n",
              "      <td>No</td>\n",
              "      <td>No</td>\n",
              "      <td>Yes</td>\n",
              "      <td>No</td>\n",
              "      <td>Fiber optic</td>\n",
              "      <td>No</td>\n",
              "      <td>No</td>\n",
              "      <td>No</td>\n",
              "      <td>Yes</td>\n",
              "      <td>No</td>\n",
              "      <td>No</td>\n",
              "      <td>Month-to-month</td>\n",
              "      <td>Yes</td>\n",
              "      <td>Electronic check</td>\n",
              "      <td>1</td>\n",
              "    </tr>\n",
              "    <tr>\n",
              "      <th>7</th>\n",
              "      <td>1</td>\n",
              "      <td>45.70</td>\n",
              "      <td>45.7</td>\n",
              "      <td>Male</td>\n",
              "      <td>0</td>\n",
              "      <td>No</td>\n",
              "      <td>No</td>\n",
              "      <td>Yes</td>\n",
              "      <td>No</td>\n",
              "      <td>DSL</td>\n",
              "      <td>No</td>\n",
              "      <td>No</td>\n",
              "      <td>No</td>\n",
              "      <td>No</td>\n",
              "      <td>No</td>\n",
              "      <td>No</td>\n",
              "      <td>Month-to-month</td>\n",
              "      <td>Yes</td>\n",
              "      <td>Mailed check</td>\n",
              "      <td>1</td>\n",
              "    </tr>\n",
              "    <tr>\n",
              "      <th>51</th>\n",
              "      <td>1</td>\n",
              "      <td>74.45</td>\n",
              "      <td>74.45</td>\n",
              "      <td>Female</td>\n",
              "      <td>1</td>\n",
              "      <td>Yes</td>\n",
              "      <td>No</td>\n",
              "      <td>Yes</td>\n",
              "      <td>Yes</td>\n",
              "      <td>Fiber optic</td>\n",
              "      <td>No</td>\n",
              "      <td>No</td>\n",
              "      <td>No</td>\n",
              "      <td>No</td>\n",
              "      <td>No</td>\n",
              "      <td>No</td>\n",
              "      <td>Month-to-month</td>\n",
              "      <td>Yes</td>\n",
              "      <td>Electronic check</td>\n",
              "      <td>1</td>\n",
              "    </tr>\n",
              "    <tr>\n",
              "      <th>63</th>\n",
              "      <td>1</td>\n",
              "      <td>48.45</td>\n",
              "      <td>48.45</td>\n",
              "      <td>Female</td>\n",
              "      <td>0</td>\n",
              "      <td>No</td>\n",
              "      <td>No</td>\n",
              "      <td>Yes</td>\n",
              "      <td>No</td>\n",
              "      <td>DSL</td>\n",
              "      <td>Yes</td>\n",
              "      <td>No</td>\n",
              "      <td>No</td>\n",
              "      <td>No</td>\n",
              "      <td>No</td>\n",
              "      <td>No</td>\n",
              "      <td>Month-to-month</td>\n",
              "      <td>Yes</td>\n",
              "      <td>Bank transfer (automatic)</td>\n",
              "      <td>0</td>\n",
              "    </tr>\n",
              "    <tr>\n",
              "      <th>67</th>\n",
              "      <td>1</td>\n",
              "      <td>24.40</td>\n",
              "      <td>24.4</td>\n",
              "      <td>Male</td>\n",
              "      <td>0</td>\n",
              "      <td>No</td>\n",
              "      <td>No</td>\n",
              "      <td>No</td>\n",
              "      <td>No phone service</td>\n",
              "      <td>DSL</td>\n",
              "      <td>No</td>\n",
              "      <td>No</td>\n",
              "      <td>No</td>\n",
              "      <td>No</td>\n",
              "      <td>No</td>\n",
              "      <td>No</td>\n",
              "      <td>Month-to-month</td>\n",
              "      <td>No</td>\n",
              "      <td>Mailed check</td>\n",
              "      <td>0</td>\n",
              "    </tr>\n",
              "  </tbody>\n",
              "</table>\n",
              "</div>"
            ],
            "text/plain": [
              "    ClientPeriod  MonthlySpending  ...              PaymentMethod Churn\n",
              "2              1            75.90  ...           Electronic check     1\n",
              "7              1            45.70  ...               Mailed check     1\n",
              "51             1            74.45  ...           Electronic check     1\n",
              "63             1            48.45  ...  Bank transfer (automatic)     0\n",
              "67             1            24.40  ...               Mailed check     0\n",
              "\n",
              "[5 rows x 20 columns]"
            ]
          },
          "metadata": {},
          "execution_count": 187
        }
      ]
    },
    {
      "cell_type": "markdown",
      "metadata": {
        "id": "SPrvgAuCBZRM"
      },
      "source": [
        "Скорее всего `MonthlySpending` равно `TotalSpent`."
      ]
    },
    {
      "cell_type": "code",
      "metadata": {
        "colab": {
          "base_uri": "https://localhost:8080/"
        },
        "id": "VhrvoOXiB33l",
        "outputId": "ea168c15-1d30-48bf-ded0-382a9034cdc4"
      },
      "source": [
        "len(ClientPeriod1)"
      ],
      "execution_count": null,
      "outputs": [
        {
          "output_type": "execute_result",
          "data": {
            "text/plain": [
              "457"
            ]
          },
          "metadata": {},
          "execution_count": 188
        }
      ]
    },
    {
      "cell_type": "code",
      "metadata": {
        "colab": {
          "base_uri": "https://localhost:8080/"
        },
        "id": "NLYRvVHyBgGx",
        "outputId": "b36f28c4-9aca-489c-fac5-5c5adfcaa7c4"
      },
      "source": [
        "sum(ClientPeriod1['MonthlySpending'] == pd.to_numeric(ClientPeriod1['TotalSpent']))"
      ],
      "execution_count": null,
      "outputs": [
        {
          "output_type": "execute_result",
          "data": {
            "text/plain": [
              "457"
            ]
          },
          "metadata": {},
          "execution_count": 189
        }
      ]
    },
    {
      "cell_type": "markdown",
      "metadata": {
        "id": "61zaXF3rCaPT"
      },
      "source": [
        "Так и есть. Тогда для новых клиентов логично будет заменить пробелы на 0."
      ]
    },
    {
      "cell_type": "code",
      "metadata": {
        "id": "MHljbzF3sEt4",
        "colab": {
          "base_uri": "https://localhost:8080/"
        },
        "outputId": "372d08ca-cea9-4fbf-db65-a3a2fd5d945c"
      },
      "source": [
        "df.loc[df['TotalSpent'] == ' ', 'TotalSpent'] = 0\n",
        "df['TotalSpent'] = pd.to_numeric(df['TotalSpent'])\n",
        "df['TotalSpent'].dtype"
      ],
      "execution_count": null,
      "outputs": [
        {
          "output_type": "execute_result",
          "data": {
            "text/plain": [
              "dtype('float64')"
            ]
          },
          "metadata": {},
          "execution_count": 190
        }
      ]
    },
    {
      "cell_type": "markdown",
      "metadata": {
        "id": "QziWVjcLC36b"
      },
      "source": [
        "Также обработаем дубликаты:"
      ]
    },
    {
      "cell_type": "code",
      "metadata": {
        "id": "btGjMA9otKCh",
        "colab": {
          "base_uri": "https://localhost:8080/"
        },
        "outputId": "b2464c3a-846e-4f8f-a8b6-b253fbc95f74"
      },
      "source": [
        "df.duplicated().sum()"
      ],
      "execution_count": null,
      "outputs": [
        {
          "output_type": "execute_result",
          "data": {
            "text/plain": [
              "14"
            ]
          },
          "metadata": {},
          "execution_count": 191
        }
      ]
    },
    {
      "cell_type": "code",
      "metadata": {
        "id": "xsQqGtK1tPkw",
        "colab": {
          "base_uri": "https://localhost:8080/"
        },
        "outputId": "550b2ac0-3ee6-4add-e4da-18823bd1a7a2"
      },
      "source": [
        "df = df.drop_duplicates().reset_index(drop=True)\n",
        "df.head()"
      ],
      "execution_count": null,
      "outputs": [
        {
          "output_type": "execute_result",
          "data": {
            "text/html": [
              "<div>\n",
              "<style scoped>\n",
              "    .dataframe tbody tr th:only-of-type {\n",
              "        vertical-align: middle;\n",
              "    }\n",
              "\n",
              "    .dataframe tbody tr th {\n",
              "        vertical-align: top;\n",
              "    }\n",
              "\n",
              "    .dataframe thead th {\n",
              "        text-align: right;\n",
              "    }\n",
              "</style>\n",
              "<table border=\"1\" class=\"dataframe\">\n",
              "  <thead>\n",
              "    <tr style=\"text-align: right;\">\n",
              "      <th></th>\n",
              "      <th>ClientPeriod</th>\n",
              "      <th>MonthlySpending</th>\n",
              "      <th>TotalSpent</th>\n",
              "      <th>Sex</th>\n",
              "      <th>IsSeniorCitizen</th>\n",
              "      <th>HasPartner</th>\n",
              "      <th>HasChild</th>\n",
              "      <th>HasPhoneService</th>\n",
              "      <th>HasMultiplePhoneNumbers</th>\n",
              "      <th>HasInternetService</th>\n",
              "      <th>HasOnlineSecurityService</th>\n",
              "      <th>HasOnlineBackup</th>\n",
              "      <th>HasDeviceProtection</th>\n",
              "      <th>HasTechSupportAccess</th>\n",
              "      <th>HasOnlineTV</th>\n",
              "      <th>HasMovieSubscription</th>\n",
              "      <th>HasContractPhone</th>\n",
              "      <th>IsBillingPaperless</th>\n",
              "      <th>PaymentMethod</th>\n",
              "      <th>Churn</th>\n",
              "    </tr>\n",
              "  </thead>\n",
              "  <tbody>\n",
              "    <tr>\n",
              "      <th>0</th>\n",
              "      <td>55</td>\n",
              "      <td>19.50</td>\n",
              "      <td>1026.35</td>\n",
              "      <td>Male</td>\n",
              "      <td>0</td>\n",
              "      <td>Yes</td>\n",
              "      <td>Yes</td>\n",
              "      <td>Yes</td>\n",
              "      <td>No</td>\n",
              "      <td>No</td>\n",
              "      <td>No internet service</td>\n",
              "      <td>No internet service</td>\n",
              "      <td>No internet service</td>\n",
              "      <td>No internet service</td>\n",
              "      <td>No internet service</td>\n",
              "      <td>No internet service</td>\n",
              "      <td>One year</td>\n",
              "      <td>No</td>\n",
              "      <td>Mailed check</td>\n",
              "      <td>0</td>\n",
              "    </tr>\n",
              "    <tr>\n",
              "      <th>1</th>\n",
              "      <td>72</td>\n",
              "      <td>25.85</td>\n",
              "      <td>1872.20</td>\n",
              "      <td>Male</td>\n",
              "      <td>0</td>\n",
              "      <td>Yes</td>\n",
              "      <td>No</td>\n",
              "      <td>Yes</td>\n",
              "      <td>Yes</td>\n",
              "      <td>No</td>\n",
              "      <td>No internet service</td>\n",
              "      <td>No internet service</td>\n",
              "      <td>No internet service</td>\n",
              "      <td>No internet service</td>\n",
              "      <td>No internet service</td>\n",
              "      <td>No internet service</td>\n",
              "      <td>Two year</td>\n",
              "      <td>No</td>\n",
              "      <td>Credit card (automatic)</td>\n",
              "      <td>0</td>\n",
              "    </tr>\n",
              "    <tr>\n",
              "      <th>2</th>\n",
              "      <td>1</td>\n",
              "      <td>75.90</td>\n",
              "      <td>75.90</td>\n",
              "      <td>Male</td>\n",
              "      <td>0</td>\n",
              "      <td>No</td>\n",
              "      <td>No</td>\n",
              "      <td>Yes</td>\n",
              "      <td>No</td>\n",
              "      <td>Fiber optic</td>\n",
              "      <td>No</td>\n",
              "      <td>No</td>\n",
              "      <td>No</td>\n",
              "      <td>Yes</td>\n",
              "      <td>No</td>\n",
              "      <td>No</td>\n",
              "      <td>Month-to-month</td>\n",
              "      <td>Yes</td>\n",
              "      <td>Electronic check</td>\n",
              "      <td>1</td>\n",
              "    </tr>\n",
              "    <tr>\n",
              "      <th>3</th>\n",
              "      <td>32</td>\n",
              "      <td>79.30</td>\n",
              "      <td>2570.00</td>\n",
              "      <td>Female</td>\n",
              "      <td>1</td>\n",
              "      <td>Yes</td>\n",
              "      <td>No</td>\n",
              "      <td>Yes</td>\n",
              "      <td>Yes</td>\n",
              "      <td>Fiber optic</td>\n",
              "      <td>No</td>\n",
              "      <td>No</td>\n",
              "      <td>Yes</td>\n",
              "      <td>No</td>\n",
              "      <td>No</td>\n",
              "      <td>No</td>\n",
              "      <td>Month-to-month</td>\n",
              "      <td>No</td>\n",
              "      <td>Mailed check</td>\n",
              "      <td>0</td>\n",
              "    </tr>\n",
              "    <tr>\n",
              "      <th>4</th>\n",
              "      <td>60</td>\n",
              "      <td>115.25</td>\n",
              "      <td>6758.45</td>\n",
              "      <td>Female</td>\n",
              "      <td>0</td>\n",
              "      <td>Yes</td>\n",
              "      <td>Yes</td>\n",
              "      <td>Yes</td>\n",
              "      <td>Yes</td>\n",
              "      <td>Fiber optic</td>\n",
              "      <td>Yes</td>\n",
              "      <td>Yes</td>\n",
              "      <td>Yes</td>\n",
              "      <td>Yes</td>\n",
              "      <td>Yes</td>\n",
              "      <td>Yes</td>\n",
              "      <td>Two year</td>\n",
              "      <td>No</td>\n",
              "      <td>Credit card (automatic)</td>\n",
              "      <td>0</td>\n",
              "    </tr>\n",
              "  </tbody>\n",
              "</table>\n",
              "</div>"
            ],
            "text/plain": [
              "   ClientPeriod  MonthlySpending  ...            PaymentMethod Churn\n",
              "0            55            19.50  ...             Mailed check     0\n",
              "1            72            25.85  ...  Credit card (automatic)     0\n",
              "2             1            75.90  ...         Electronic check     1\n",
              "3            32            79.30  ...             Mailed check     0\n",
              "4            60           115.25  ...  Credit card (automatic)     0\n",
              "\n",
              "[5 rows x 20 columns]"
            ]
          },
          "metadata": {},
          "execution_count": 192
        }
      ]
    },
    {
      "cell_type": "code",
      "metadata": {
        "id": "vIcGyr_7tZK2",
        "colab": {
          "base_uri": "https://localhost:8080/"
        },
        "outputId": "dda26c9c-edac-4cd0-d9a1-988a6d9ec2dd"
      },
      "source": [
        "df.shape"
      ],
      "execution_count": null,
      "outputs": [
        {
          "output_type": "execute_result",
          "data": {
            "text/plain": [
              "(5268, 20)"
            ]
          },
          "metadata": {},
          "execution_count": 193
        }
      ]
    },
    {
      "cell_type": "markdown",
      "metadata": {
        "id": "4QcL-sg9C8SP"
      },
      "source": [
        "После обработки датафрейм стал меньше на 14 строк."
      ]
    },
    {
      "cell_type": "markdown",
      "metadata": {
        "id": "Gde3b-jRsRXU"
      },
      "source": [
        "## Анализ данных (3 балла)"
      ]
    },
    {
      "cell_type": "code",
      "metadata": {
        "id": "Bsd4RG7ysXzN"
      },
      "source": [
        "colors = cm.get_cmap('Accent').colors"
      ],
      "execution_count": null,
      "outputs": []
    },
    {
      "cell_type": "markdown",
      "metadata": {
        "id": "ewiq64oYxEDT"
      },
      "source": [
        "### Численные признаки"
      ]
    },
    {
      "cell_type": "markdown",
      "metadata": {
        "id": "Lz1XnVYsFo0K"
      },
      "source": [
        "Гистограммы:"
      ]
    },
    {
      "cell_type": "code",
      "metadata": {
        "id": "yWaTM0ARtGkN",
        "colab": {
          "base_uri": "https://localhost:8080/"
        },
        "outputId": "aaca19c1-2c6c-4f48-820a-b6c4ebaa05fc"
      },
      "source": [
        "fig, axes = plt.subplots(1, 3, figsize=(18, 4))\n",
        "for i, col in enumerate(num_cols):\n",
        "  ax = axes[np.unravel_index(i, shape=axes.shape)]\n",
        "  ax.hist(df[col], bins=50, color=colors[0])\n",
        "  ax.set_xlabel(col)\n",
        "  ax.set_ylabel('count')"
      ],
      "execution_count": null,
      "outputs": [
        {
          "output_type": "display_data",
          "data": {
            "image/png": "[encoded data removed]",
            "text/plain": [
              "<Figure size 1296x288 with 3 Axes>"
            ]
          },
          "metadata": {
            "needs_background": "light"
          }
        }
      ]
    },
    {
      "cell_type": "markdown",
      "metadata": {
        "id": "rIo9eo9ZFqVc"
      },
      "source": [
        "Ящики с усами:"
      ]
    },
    {
      "cell_type": "code",
      "metadata": {
        "id": "CrftYD4wxZ5Z",
        "colab": {
          "base_uri": "https://localhost:8080/"
        },
        "outputId": "4ca52cd0-6b65-4299-999a-fa2a75f5f983"
      },
      "source": [
        "fig, axes = plt.subplots(1, 3, figsize=(18, 4))\n",
        "for i, col in enumerate(num_cols):\n",
        "  ax = axes[np.unravel_index(i, shape=axes.shape)]\n",
        "  sns.boxplot(x=col, data=df, ax=ax, color=colors[1])"
      ],
      "execution_count": null,
      "outputs": [
        {
          "output_type": "display_data",
          "data": {
            "image/png": "[encoded data removed]",
            "text/plain": [
              "<Figure size 1296x288 with 3 Axes>"
            ]
          },
          "metadata": {
            "needs_background": "light"
          }
        }
      ]
    },
    {
      "cell_type": "markdown",
      "metadata": {
        "id": "KcTL3Bd5Fzf-"
      },
      "source": [
        "Будем считать, что выбросов не наблюдается, так как ни для одного графика нет точек, выходящих за промежуток значений, заданный усами графика."
      ]
    },
    {
      "cell_type": "markdown",
      "metadata": {
        "id": "54x6NChtx4QE"
      },
      "source": [
        "### Категориальные признаки"
      ]
    },
    {
      "cell_type": "markdown",
      "metadata": {
        "id": "JxsqnB-5GIL3"
      },
      "source": [
        "Посмотрим на распределение данных по признакам, воспользовавшись методом value_counts():"
      ]
    },
    {
      "cell_type": "code",
      "metadata": {
        "id": "IHOpUM-Qx6Gi",
        "colab": {
          "base_uri": "https://localhost:8080/"
        },
        "outputId": "0fe9fcea-b13d-4ce4-fa82-42c70ab5dcbb"
      },
      "source": [
        "for col in cat_cols:\n",
        "  print(col)\n",
        "  print(df[col].value_counts())\n",
        "  print()"
      ],
      "execution_count": null,
      "outputs": [
        {
          "output_type": "stream",
          "name": "stdout",
          "text": [
            "Sex\n",
            "Male      2647\n",
            "Female    2621\n",
            "Name: Sex, dtype: int64\n",
            "\n",
            "IsSeniorCitizen\n",
            "0    4427\n",
            "1     841\n",
            "Name: IsSeniorCitizen, dtype: int64\n",
            "\n",
            "HasPartner\n",
            "No     2691\n",
            "Yes    2577\n",
            "Name: HasPartner, dtype: int64\n",
            "\n",
            "HasChild\n",
            "No     3662\n",
            "Yes    1606\n",
            "Name: HasChild, dtype: int64\n",
            "\n",
            "HasPhoneService\n",
            "Yes    4747\n",
            "No      521\n",
            "Name: HasPhoneService, dtype: int64\n",
            "\n",
            "HasMultiplePhoneNumbers\n",
            "No                  2497\n",
            "Yes                 2250\n",
            "No phone service     521\n",
            "Name: HasMultiplePhoneNumbers, dtype: int64\n",
            "\n",
            "HasInternetService\n",
            "Fiber optic    2335\n",
            "DSL            1798\n",
            "No             1135\n",
            "Name: HasInternetService, dtype: int64\n",
            "\n",
            "HasOnlineSecurityService\n",
            "No                     2604\n",
            "Yes                    1529\n",
            "No internet service    1135\n",
            "Name: HasOnlineSecurityService, dtype: int64\n",
            "\n",
            "HasOnlineBackup\n",
            "No                     2324\n",
            "Yes                    1809\n",
            "No internet service    1135\n",
            "Name: HasOnlineBackup, dtype: int64\n",
            "\n",
            "HasDeviceProtection\n",
            "No                     2309\n",
            "Yes                    1824\n",
            "No internet service    1135\n",
            "Name: HasDeviceProtection, dtype: int64\n",
            "\n",
            "HasTechSupportAccess\n",
            "No                     2596\n",
            "Yes                    1537\n",
            "No internet service    1135\n",
            "Name: HasTechSupportAccess, dtype: int64\n",
            "\n",
            "HasOnlineTV\n",
            "No                     2091\n",
            "Yes                    2042\n",
            "No internet service    1135\n",
            "Name: HasOnlineTV, dtype: int64\n",
            "\n",
            "HasMovieSubscription\n",
            "No                     2073\n",
            "Yes                    2060\n",
            "No internet service    1135\n",
            "Name: HasMovieSubscription, dtype: int64\n",
            "\n",
            "HasContractPhone\n",
            "Month-to-month    2906\n",
            "Two year          1280\n",
            "One year          1082\n",
            "Name: HasContractPhone, dtype: int64\n",
            "\n",
            "IsBillingPaperless\n",
            "Yes    3140\n",
            "No     2128\n",
            "Name: IsBillingPaperless, dtype: int64\n",
            "\n",
            "PaymentMethod\n",
            "Electronic check             1780\n",
            "Mailed check                 1186\n",
            "Bank transfer (automatic)    1159\n",
            "Credit card (automatic)      1143\n",
            "Name: PaymentMethod, dtype: int64\n",
            "\n"
          ]
        }
      ]
    },
    {
      "cell_type": "markdown",
      "metadata": {
        "id": "UmvYiewcGefV"
      },
      "source": [
        "Кажется, наблюдается небольшая избыточность в данных. Есть столбец `HasInternetService`, указывающий на наличие интернета. В то же время есть  несколько столбцов, обозначающих наличие какой-то дополнительной услуги (например, HasMovieSubscription), у них встречаются значения 'No', 'Yes' и 'No internet service'. Выходит, 'No' указывает на отсутствие дополнительной услуги, как и 'No interent service', только еще дублируя информацию об отсутствии интернета, хотя это нам не так важно для колонок такого типа. Можно легко заменить 'No interent service' на 'No', не утратив информацию о наличии интернета."
      ]
    },
    {
      "cell_type": "code",
      "metadata": {
        "id": "daYA1x4Zyzzz",
        "colab": {
          "base_uri": "https://localhost:8080/"
        },
        "outputId": "c7c4ff18-7e84-4024-cd35-31f1c2387595"
      },
      "source": [
        "nis_cols = []\n",
        "for col in cat_cols:\n",
        "  if 'No internet service' in df[col].values:\n",
        "    nis_cols.append(col)\n",
        "print(nis_cols)"
      ],
      "execution_count": null,
      "outputs": [
        {
          "output_type": "stream",
          "name": "stdout",
          "text": [
            "['HasOnlineSecurityService', 'HasOnlineBackup', 'HasDeviceProtection', 'HasTechSupportAccess', 'HasOnlineTV', 'HasMovieSubscription']\n"
          ]
        }
      ]
    },
    {
      "cell_type": "code",
      "metadata": {
        "id": "_jNu0ntiy3Fq",
        "colab": {
          "base_uri": "https://localhost:8080/"
        },
        "outputId": "cab19315-462b-43c2-e34f-074e10ce808f"
      },
      "source": [
        "for col in nis_cols:\n",
        "  df.loc[df[col] == 'No internet service', col] = 'No'\n",
        "  print(f'{col}: {df[col].unique()}')"
      ],
      "execution_count": null,
      "outputs": [
        {
          "output_type": "stream",
          "name": "stdout",
          "text": [
            "HasOnlineSecurityService: ['No' 'Yes']\n",
            "HasOnlineBackup: ['No' 'Yes']\n",
            "HasDeviceProtection: ['No' 'Yes']\n",
            "HasTechSupportAccess: ['No' 'Yes']\n",
            "HasOnlineTV: ['No' 'Yes']\n",
            "HasMovieSubscription: ['No' 'Yes']\n"
          ]
        }
      ]
    },
    {
      "cell_type": "markdown",
      "metadata": {
        "id": "xpQD4l4JNfhx"
      },
      "source": [
        "Построим круговые диаграммы:"
      ]
    },
    {
      "cell_type": "code",
      "metadata": {
        "id": "XPoOrcjhyNn7",
        "colab": {
          "base_uri": "https://localhost:8080/"
        },
        "outputId": "4a698c3e-b894-4973-f3c5-adec5660efce"
      },
      "source": [
        "fig, axes = plt.subplots(4, 4, figsize=(20, 20))\n",
        "for i, col in enumerate(cat_cols):\n",
        "  vc = df[col].value_counts()\n",
        "  labels = vc.index\n",
        "  x = vc.values\n",
        "  ax = axes[np.unravel_index(i, shape=axes.shape)]\n",
        "  ax.set_title(label=col, fontdict={'fontsize': 14})\n",
        "  ax.pie(x=x, explode=(0.02,)*len(x), labels=labels, colors=colors, \n",
        "         autopct=lambda percent: f'{round(percent, 2)}%')"
      ],
      "execution_count": null,
      "outputs": [
        {
          "output_type": "display_data",
          "data": {
            "image/png": "[encoded data removed]",
            "text/plain": [
              "<Figure size 1440x1440 with 16 Axes>"
            ]
          },
          "metadata": {}
        }
      ]
    },
    {
      "cell_type": "markdown",
      "metadata": {
        "id": "kSuOKbehzkuP"
      },
      "source": [
        "### Целевая переменная"
      ]
    },
    {
      "cell_type": "code",
      "metadata": {
        "id": "1D9_OVXPzqQr",
        "colab": {
          "base_uri": "https://localhost:8080/"
        },
        "outputId": "5011f396-4f1f-48a4-9a8f-7242161ea1e2"
      },
      "source": [
        "plt.figure(figsize=(4, 5))\n",
        "sns.countplot(x=target_col, data=df, palette=colors);"
      ],
      "execution_count": null,
      "outputs": [
        {
          "output_type": "display_data",
          "data": {
            "image/png": "[encoded data removed]",
            "text/plain": [
              "<Figure size 288x360 with 1 Axes>"
            ]
          },
          "metadata": {
            "needs_background": "light"
          }
        }
      ]
    },
    {
      "cell_type": "code",
      "metadata": {
        "id": "hlIYu5USz16H",
        "colab": {
          "base_uri": "https://localhost:8080/"
        },
        "outputId": "caa70b96-c200-4283-d6f5-807bc8b4225c"
      },
      "source": [
        "df[target_col].value_counts(normalize=True)"
      ],
      "execution_count": null,
      "outputs": [
        {
          "output_type": "execute_result",
          "data": {
            "text/plain": [
              "0    0.73918\n",
              "1    0.26082\n",
              "Name: Churn, dtype: float64"
            ]
          },
          "metadata": {},
          "execution_count": 202
        }
      ]
    },
    {
      "cell_type": "code",
      "metadata": {
        "id": "XVwMWmb9z56g",
        "colab": {
          "base_uri": "https://localhost:8080/"
        },
        "outputId": "35b181a7-371d-493c-a78a-9a01896cbc1c"
      },
      "source": [
        "0.73918 / 0.26082"
      ],
      "execution_count": null,
      "outputs": [
        {
          "output_type": "execute_result",
          "data": {
            "text/plain": [
              "2.834061805076298"
            ]
          },
          "metadata": {},
          "execution_count": 203
        }
      ]
    },
    {
      "cell_type": "markdown",
      "metadata": {
        "id": "Yfr16mBFPVlX"
      },
      "source": [
        "Класса 0 почти в три раза больше класса 1. Сильного дисбаланса классов все же нет."
      ]
    },
    {
      "cell_type": "markdown",
      "metadata": {
        "id": "Oa81RVYN0Jyq"
      },
      "source": [
        "## Применение линейных моделей (3 балла)"
      ]
    },
    {
      "cell_type": "markdown",
      "metadata": {
        "id": "MewrFcRCQw7c"
      },
      "source": [
        "Применим one-hot encoding к категориальным признакам."
      ]
    },
    {
      "cell_type": "code",
      "metadata": {
        "id": "989qTYWC2Pvl",
        "colab": {
          "base_uri": "https://localhost:8080/"
        },
        "outputId": "d75b6201-670d-49e6-d254-fb2061f96f35"
      },
      "source": [
        "enc = OneHotEncoder(sparse=False, handle_unknown='ignore')\n",
        "X_cat = df[cat_cols]\n",
        "data = enc.fit_transform(X_cat)\n",
        "columns = enc.get_feature_names(cat_cols)\n",
        "X_cat = pd.DataFrame(data=data, columns=columns, dtype='int64')\n",
        "X_num = df[num_cols]\n",
        "X = pd.concat([X_num, X_cat], axis=1)\n",
        "y = df[target_col]\n",
        "X.head()"
      ],
      "execution_count": null,
      "outputs": [
        {
          "output_type": "execute_result",
          "data": {
            "text/html": [
              "<div>\n",
              "<style scoped>\n",
              "    .dataframe tbody tr th:only-of-type {\n",
              "        vertical-align: middle;\n",
              "    }\n",
              "\n",
              "    .dataframe tbody tr th {\n",
              "        vertical-align: top;\n",
              "    }\n",
              "\n",
              "    .dataframe thead th {\n",
              "        text-align: right;\n",
              "    }\n",
              "</style>\n",
              "<table border=\"1\" class=\"dataframe\">\n",
              "  <thead>\n",
              "    <tr style=\"text-align: right;\">\n",
              "      <th></th>\n",
              "      <th>ClientPeriod</th>\n",
              "      <th>MonthlySpending</th>\n",
              "      <th>TotalSpent</th>\n",
              "      <th>Sex_Female</th>\n",
              "      <th>Sex_Male</th>\n",
              "      <th>IsSeniorCitizen_0</th>\n",
              "      <th>IsSeniorCitizen_1</th>\n",
              "      <th>HasPartner_No</th>\n",
              "      <th>HasPartner_Yes</th>\n",
              "      <th>HasChild_No</th>\n",
              "      <th>HasChild_Yes</th>\n",
              "      <th>HasPhoneService_No</th>\n",
              "      <th>HasPhoneService_Yes</th>\n",
              "      <th>HasMultiplePhoneNumbers_No</th>\n",
              "      <th>HasMultiplePhoneNumbers_No phone service</th>\n",
              "      <th>HasMultiplePhoneNumbers_Yes</th>\n",
              "      <th>HasInternetService_DSL</th>\n",
              "      <th>HasInternetService_Fiber optic</th>\n",
              "      <th>HasInternetService_No</th>\n",
              "      <th>HasOnlineSecurityService_No</th>\n",
              "      <th>HasOnlineSecurityService_Yes</th>\n",
              "      <th>HasOnlineBackup_No</th>\n",
              "      <th>HasOnlineBackup_Yes</th>\n",
              "      <th>HasDeviceProtection_No</th>\n",
              "      <th>HasDeviceProtection_Yes</th>\n",
              "      <th>HasTechSupportAccess_No</th>\n",
              "      <th>HasTechSupportAccess_Yes</th>\n",
              "      <th>HasOnlineTV_No</th>\n",
              "      <th>HasOnlineTV_Yes</th>\n",
              "      <th>HasMovieSubscription_No</th>\n",
              "      <th>HasMovieSubscription_Yes</th>\n",
              "      <th>HasContractPhone_Month-to-month</th>\n",
              "      <th>HasContractPhone_One year</th>\n",
              "      <th>HasContractPhone_Two year</th>\n",
              "      <th>IsBillingPaperless_No</th>\n",
              "      <th>IsBillingPaperless_Yes</th>\n",
              "      <th>PaymentMethod_Bank transfer (automatic)</th>\n",
              "      <th>PaymentMethod_Credit card (automatic)</th>\n",
              "      <th>PaymentMethod_Electronic check</th>\n",
              "      <th>PaymentMethod_Mailed check</th>\n",
              "    </tr>\n",
              "  </thead>\n",
              "  <tbody>\n",
              "    <tr>\n",
              "      <th>0</th>\n",
              "      <td>55</td>\n",
              "      <td>19.50</td>\n",
              "      <td>1026.35</td>\n",
              "      <td>0</td>\n",
              "      <td>1</td>\n",
              "      <td>1</td>\n",
              "      <td>0</td>\n",
              "      <td>0</td>\n",
              "      <td>1</td>\n",
              "      <td>0</td>\n",
              "      <td>1</td>\n",
              "      <td>0</td>\n",
              "      <td>1</td>\n",
              "      <td>1</td>\n",
              "      <td>0</td>\n",
              "      <td>0</td>\n",
              "      <td>0</td>\n",
              "      <td>0</td>\n",
              "      <td>1</td>\n",
              "      <td>1</td>\n",
              "      <td>0</td>\n",
              "      <td>1</td>\n",
              "      <td>0</td>\n",
              "      <td>1</td>\n",
              "      <td>0</td>\n",
              "      <td>1</td>\n",
              "      <td>0</td>\n",
              "      <td>1</td>\n",
              "      <td>0</td>\n",
              "      <td>1</td>\n",
              "      <td>0</td>\n",
              "      <td>0</td>\n",
              "      <td>1</td>\n",
              "      <td>0</td>\n",
              "      <td>1</td>\n",
              "      <td>0</td>\n",
              "      <td>0</td>\n",
              "      <td>0</td>\n",
              "      <td>0</td>\n",
              "      <td>1</td>\n",
              "    </tr>\n",
              "    <tr>\n",
              "      <th>1</th>\n",
              "      <td>72</td>\n",
              "      <td>25.85</td>\n",
              "      <td>1872.20</td>\n",
              "      <td>0</td>\n",
              "      <td>1</td>\n",
              "      <td>1</td>\n",
              "      <td>0</td>\n",
              "      <td>0</td>\n",
              "      <td>1</td>\n",
              "      <td>1</td>\n",
              "      <td>0</td>\n",
              "      <td>0</td>\n",
              "      <td>1</td>\n",
              "      <td>0</td>\n",
              "      <td>0</td>\n",
              "      <td>1</td>\n",
              "      <td>0</td>\n",
              "      <td>0</td>\n",
              "      <td>1</td>\n",
              "      <td>1</td>\n",
              "      <td>0</td>\n",
              "      <td>1</td>\n",
              "      <td>0</td>\n",
              "      <td>1</td>\n",
              "      <td>0</td>\n",
              "      <td>1</td>\n",
              "      <td>0</td>\n",
              "      <td>1</td>\n",
              "      <td>0</td>\n",
              "      <td>1</td>\n",
              "      <td>0</td>\n",
              "      <td>0</td>\n",
              "      <td>0</td>\n",
              "      <td>1</td>\n",
              "      <td>1</td>\n",
              "      <td>0</td>\n",
              "      <td>0</td>\n",
              "      <td>1</td>\n",
              "      <td>0</td>\n",
              "      <td>0</td>\n",
              "    </tr>\n",
              "    <tr>\n",
              "      <th>2</th>\n",
              "      <td>1</td>\n",
              "      <td>75.90</td>\n",
              "      <td>75.90</td>\n",
              "      <td>0</td>\n",
              "      <td>1</td>\n",
              "      <td>1</td>\n",
              "      <td>0</td>\n",
              "      <td>1</td>\n",
              "      <td>0</td>\n",
              "      <td>1</td>\n",
              "      <td>0</td>\n",
              "      <td>0</td>\n",
              "      <td>1</td>\n",
              "      <td>1</td>\n",
              "      <td>0</td>\n",
              "      <td>0</td>\n",
              "      <td>0</td>\n",
              "      <td>1</td>\n",
              "      <td>0</td>\n",
              "      <td>1</td>\n",
              "      <td>0</td>\n",
              "      <td>1</td>\n",
              "      <td>0</td>\n",
              "      <td>1</td>\n",
              "      <td>0</td>\n",
              "      <td>0</td>\n",
              "      <td>1</td>\n",
              "      <td>1</td>\n",
              "      <td>0</td>\n",
              "      <td>1</td>\n",
              "      <td>0</td>\n",
              "      <td>1</td>\n",
              "      <td>0</td>\n",
              "      <td>0</td>\n",
              "      <td>0</td>\n",
              "      <td>1</td>\n",
              "      <td>0</td>\n",
              "      <td>0</td>\n",
              "      <td>1</td>\n",
              "      <td>0</td>\n",
              "    </tr>\n",
              "    <tr>\n",
              "      <th>3</th>\n",
              "      <td>32</td>\n",
              "      <td>79.30</td>\n",
              "      <td>2570.00</td>\n",
              "      <td>1</td>\n",
              "      <td>0</td>\n",
              "      <td>0</td>\n",
              "      <td>1</td>\n",
              "      <td>0</td>\n",
              "      <td>1</td>\n",
              "      <td>1</td>\n",
              "      <td>0</td>\n",
              "      <td>0</td>\n",
              "      <td>1</td>\n",
              "      <td>0</td>\n",
              "      <td>0</td>\n",
              "      <td>1</td>\n",
              "      <td>0</td>\n",
              "      <td>1</td>\n",
              "      <td>0</td>\n",
              "      <td>1</td>\n",
              "      <td>0</td>\n",
              "      <td>1</td>\n",
              "      <td>0</td>\n",
              "      <td>0</td>\n",
              "      <td>1</td>\n",
              "      <td>1</td>\n",
              "      <td>0</td>\n",
              "      <td>1</td>\n",
              "      <td>0</td>\n",
              "      <td>1</td>\n",
              "      <td>0</td>\n",
              "      <td>1</td>\n",
              "      <td>0</td>\n",
              "      <td>0</td>\n",
              "      <td>1</td>\n",
              "      <td>0</td>\n",
              "      <td>0</td>\n",
              "      <td>0</td>\n",
              "      <td>0</td>\n",
              "      <td>1</td>\n",
              "    </tr>\n",
              "    <tr>\n",
              "      <th>4</th>\n",
              "      <td>60</td>\n",
              "      <td>115.25</td>\n",
              "      <td>6758.45</td>\n",
              "      <td>1</td>\n",
              "      <td>0</td>\n",
              "      <td>1</td>\n",
              "      <td>0</td>\n",
              "      <td>0</td>\n",
              "      <td>1</td>\n",
              "      <td>0</td>\n",
              "      <td>1</td>\n",
              "      <td>0</td>\n",
              "      <td>1</td>\n",
              "      <td>0</td>\n",
              "      <td>0</td>\n",
              "      <td>1</td>\n",
              "      <td>0</td>\n",
              "      <td>1</td>\n",
              "      <td>0</td>\n",
              "      <td>0</td>\n",
              "      <td>1</td>\n",
              "      <td>0</td>\n",
              "      <td>1</td>\n",
              "      <td>0</td>\n",
              "      <td>1</td>\n",
              "      <td>0</td>\n",
              "      <td>1</td>\n",
              "      <td>0</td>\n",
              "      <td>1</td>\n",
              "      <td>0</td>\n",
              "      <td>1</td>\n",
              "      <td>0</td>\n",
              "      <td>0</td>\n",
              "      <td>1</td>\n",
              "      <td>1</td>\n",
              "      <td>0</td>\n",
              "      <td>0</td>\n",
              "      <td>1</td>\n",
              "      <td>0</td>\n",
              "      <td>0</td>\n",
              "    </tr>\n",
              "  </tbody>\n",
              "</table>\n",
              "</div>"
            ],
            "text/plain": [
              "   ClientPeriod  ...  PaymentMethod_Mailed check\n",
              "0            55  ...                           1\n",
              "1            72  ...                           0\n",
              "2             1  ...                           0\n",
              "3            32  ...                           1\n",
              "4            60  ...                           0\n",
              "\n",
              "[5 rows x 40 columns]"
            ]
          },
          "metadata": {},
          "execution_count": 204
        }
      ]
    },
    {
      "cell_type": "markdown",
      "metadata": {
        "id": "XGDq6hXwXW7h"
      },
      "source": [
        "Разделим выборку на обучение и тест в соотношении 80:20."
      ]
    },
    {
      "cell_type": "code",
      "metadata": {
        "id": "gCE36oxX6fDZ"
      },
      "source": [
        "X_train, X_test, y_train, y_test = train_test_split(X, y, test_size=0.2, random_state=42)"
      ],
      "execution_count": null,
      "outputs": []
    },
    {
      "cell_type": "markdown",
      "metadata": {
        "id": "rTrVz4NSXhPy"
      },
      "source": [
        "Выберем лучшие параметры penalty и C, используя кросс-валидацию. В GridSearchCV будем передавать пайплайн из нормализации MinMaxScaler и логистической регрессии."
      ]
    },
    {
      "cell_type": "code",
      "metadata": {
        "id": "bq0XvJMS6ikm"
      },
      "source": [
        "pipeline = make_pipeline(\n",
        "    MinMaxScaler(),\n",
        "    LogisticRegression(class_weight='balanced', random_state=42, solver='liblinear', max_iter=200)\n",
        ")\n",
        "\n",
        "params = {\n",
        "    'logisticregression__penalty': ['l1', 'l2'],\n",
        "    'logisticregression__C': [0.001, 0.01, 0.1, 1, 10, 100]\n",
        "}\n",
        "\n",
        "lr_grid = GridSearchCV(\n",
        "    estimator=pipeline,\n",
        "    param_grid=params,\n",
        "    scoring='roc_auc',\n",
        "    refit=True,\n",
        "    cv=5,\n",
        "    verbose=0\n",
        ")\n",
        "\n",
        "lr_grid.fit(X_train, y_train);"
      ],
      "execution_count": null,
      "outputs": []
    },
    {
      "cell_type": "markdown",
      "metadata": {
        "id": "5FPK7kFjaAyC"
      },
      "source": [
        "Лучшие параметры:"
      ]
    },
    {
      "cell_type": "code",
      "metadata": {
        "id": "2fBHoo7o8CQ0",
        "colab": {
          "base_uri": "https://localhost:8080/"
        },
        "outputId": "f71b18f6-79c0-4d0d-c9f1-a3abcc285914"
      },
      "source": [
        "best_params = lr_grid.best_params_\n",
        "for param_name in best_params:\n",
        "  print(f'{param_name}: {best_params[param_name]}')"
      ],
      "execution_count": null,
      "outputs": [
        {
          "output_type": "stream",
          "name": "stdout",
          "text": [
            "logisticregression__C: 100\n",
            "logisticregression__penalty: l2\n"
          ]
        }
      ]
    },
    {
      "cell_type": "markdown",
      "metadata": {
        "id": "N3Ueyx_ZaDq-"
      },
      "source": [
        "Лучшее значение метрики ROC AUC:"
      ]
    },
    {
      "cell_type": "code",
      "metadata": {
        "id": "iNm74-9R8Zao",
        "colab": {
          "base_uri": "https://localhost:8080/"
        },
        "outputId": "2b6a8bc2-44ff-4702-e4f6-1c61e14803a5"
      },
      "source": [
        "lr_grid.best_score_"
      ],
      "execution_count": null,
      "outputs": [
        {
          "output_type": "execute_result",
          "data": {
            "text/plain": [
              "0.8442607133535059"
            ]
          },
          "metadata": {},
          "execution_count": 208
        }
      ]
    },
    {
      "cell_type": "code",
      "metadata": {
        "id": "rSab4OZf88K3"
      },
      "source": [
        "def plot_roc_auc(estimator, X_train, X_test, y_train, y_test, title):\n",
        "  y_train_pred = estimator.predict_proba(X_train)[:, 1]\n",
        "  y_test_pred = estimator.predict_proba(X_test)[:, 1]\n",
        "\n",
        "  train_roc_auc = roc_auc_score(y_train, y_train_pred, average='weighted')  \n",
        "  test_roc_auc = roc_auc_score(y_test, y_test_pred, average='weighted')\n",
        "\n",
        "  fpr_train, tpr_train = roc_curve(y_train, y_train_pred)[:2]\n",
        "  fpr_test, tpr_test = roc_curve(y_test, y_test_pred)[:2]\n",
        "  \n",
        "  plt.figure(figsize=(11, 6))\n",
        "  plt.plot(fpr_train, tpr_train, label=f'Train ROC AUC: {round(train_roc_auc, 5)}')\n",
        "  plt.plot(fpr_test, tpr_test, label=f'Test ROC AUC: {round(test_roc_auc, 5)}')\n",
        "  plt.plot(np.linspace(0, 1, 100), np.linspace(0, 1, 100))\n",
        "  plt.title(title)\n",
        "  plt.xlabel('False Positive Rate')\n",
        "  plt.ylabel('True Positive Rate')\n",
        "  plt.legend()"
      ],
      "execution_count": null,
      "outputs": []
    },
    {
      "cell_type": "markdown",
      "metadata": {
        "id": "CvIV3qcKZ0Mo"
      },
      "source": [
        "Вычислим качество на обучении и тесте:"
      ]
    },
    {
      "cell_type": "code",
      "metadata": {
        "id": "xUESlC_j9lYe",
        "colab": {
          "base_uri": "https://localhost:8080/"
        },
        "outputId": "f8816c38-626c-494a-ab97-1f256f4d300f"
      },
      "source": [
        "plot_roc_auc(lr_grid, X_train, X_test, y_train, y_test, 'Логистическая регрессия')"
      ],
      "execution_count": null,
      "outputs": [
        {
          "output_type": "display_data",
          "data": {
            "image/png": "[encoded data removed]",
            "text/plain": [
              "<Figure size 792x432 with 1 Axes>"
            ]
          },
          "metadata": {
            "needs_background": "light"
          }
        }
      ]
    },
    {
      "cell_type": "markdown",
      "metadata": {
        "id": "XIxjs8sAAeSI"
      },
      "source": [
        "### Kaggle"
      ]
    },
    {
      "cell_type": "markdown",
      "metadata": {
        "id": "Bz1e74O_a6ra"
      },
      "source": [
        "Обработаем пропуски в тесте как и в обучении:"
      ]
    },
    {
      "cell_type": "code",
      "metadata": {
        "id": "pgbZU3OxE4KC",
        "colab": {
          "base_uri": "https://localhost:8080/"
        },
        "outputId": "cd9b177c-9360-4101-b7e1-c4c78fc664b2"
      },
      "source": [
        "test = pd.read_csv('test.csv')\n",
        "test[test['TotalSpent'] == ' '] = 0\n",
        "df['TotalSpent'] = pd.to_numeric(df['TotalSpent'])\n",
        "test.head()"
      ],
      "execution_count": null,
      "outputs": [
        {
          "output_type": "execute_result",
          "data": {
            "text/html": [
              "<div>\n",
              "<style scoped>\n",
              "    .dataframe tbody tr th:only-of-type {\n",
              "        vertical-align: middle;\n",
              "    }\n",
              "\n",
              "    .dataframe tbody tr th {\n",
              "        vertical-align: top;\n",
              "    }\n",
              "\n",
              "    .dataframe thead th {\n",
              "        text-align: right;\n",
              "    }\n",
              "</style>\n",
              "<table border=\"1\" class=\"dataframe\">\n",
              "  <thead>\n",
              "    <tr style=\"text-align: right;\">\n",
              "      <th></th>\n",
              "      <th>ClientPeriod</th>\n",
              "      <th>MonthlySpending</th>\n",
              "      <th>TotalSpent</th>\n",
              "      <th>Sex</th>\n",
              "      <th>IsSeniorCitizen</th>\n",
              "      <th>HasPartner</th>\n",
              "      <th>HasChild</th>\n",
              "      <th>HasPhoneService</th>\n",
              "      <th>HasMultiplePhoneNumbers</th>\n",
              "      <th>HasInternetService</th>\n",
              "      <th>HasOnlineSecurityService</th>\n",
              "      <th>HasOnlineBackup</th>\n",
              "      <th>HasDeviceProtection</th>\n",
              "      <th>HasTechSupportAccess</th>\n",
              "      <th>HasOnlineTV</th>\n",
              "      <th>HasMovieSubscription</th>\n",
              "      <th>HasContractPhone</th>\n",
              "      <th>IsBillingPaperless</th>\n",
              "      <th>PaymentMethod</th>\n",
              "    </tr>\n",
              "  </thead>\n",
              "  <tbody>\n",
              "    <tr>\n",
              "      <th>0</th>\n",
              "      <td>42</td>\n",
              "      <td>56.10</td>\n",
              "      <td>2386.85</td>\n",
              "      <td>Male</td>\n",
              "      <td>0</td>\n",
              "      <td>Yes</td>\n",
              "      <td>No</td>\n",
              "      <td>Yes</td>\n",
              "      <td>Yes</td>\n",
              "      <td>DSL</td>\n",
              "      <td>Yes</td>\n",
              "      <td>No</td>\n",
              "      <td>No</td>\n",
              "      <td>No</td>\n",
              "      <td>No</td>\n",
              "      <td>No</td>\n",
              "      <td>One year</td>\n",
              "      <td>No</td>\n",
              "      <td>Credit card (automatic)</td>\n",
              "    </tr>\n",
              "    <tr>\n",
              "      <th>1</th>\n",
              "      <td>29</td>\n",
              "      <td>98.50</td>\n",
              "      <td>3004.15</td>\n",
              "      <td>Male</td>\n",
              "      <td>1</td>\n",
              "      <td>Yes</td>\n",
              "      <td>No</td>\n",
              "      <td>Yes</td>\n",
              "      <td>Yes</td>\n",
              "      <td>Fiber optic</td>\n",
              "      <td>No</td>\n",
              "      <td>No</td>\n",
              "      <td>Yes</td>\n",
              "      <td>No</td>\n",
              "      <td>Yes</td>\n",
              "      <td>Yes</td>\n",
              "      <td>Month-to-month</td>\n",
              "      <td>Yes</td>\n",
              "      <td>Electronic check</td>\n",
              "    </tr>\n",
              "    <tr>\n",
              "      <th>2</th>\n",
              "      <td>9</td>\n",
              "      <td>76.25</td>\n",
              "      <td>684.85</td>\n",
              "      <td>Male</td>\n",
              "      <td>0</td>\n",
              "      <td>No</td>\n",
              "      <td>No</td>\n",
              "      <td>Yes</td>\n",
              "      <td>Yes</td>\n",
              "      <td>Fiber optic</td>\n",
              "      <td>No</td>\n",
              "      <td>No</td>\n",
              "      <td>No</td>\n",
              "      <td>No</td>\n",
              "      <td>No</td>\n",
              "      <td>No</td>\n",
              "      <td>Month-to-month</td>\n",
              "      <td>Yes</td>\n",
              "      <td>Electronic check</td>\n",
              "    </tr>\n",
              "    <tr>\n",
              "      <th>3</th>\n",
              "      <td>67</td>\n",
              "      <td>74.00</td>\n",
              "      <td>4868.4</td>\n",
              "      <td>Female</td>\n",
              "      <td>0</td>\n",
              "      <td>Yes</td>\n",
              "      <td>Yes</td>\n",
              "      <td>Yes</td>\n",
              "      <td>Yes</td>\n",
              "      <td>DSL</td>\n",
              "      <td>Yes</td>\n",
              "      <td>Yes</td>\n",
              "      <td>No</td>\n",
              "      <td>Yes</td>\n",
              "      <td>Yes</td>\n",
              "      <td>No</td>\n",
              "      <td>Two year</td>\n",
              "      <td>No</td>\n",
              "      <td>Credit card (automatic)</td>\n",
              "    </tr>\n",
              "    <tr>\n",
              "      <th>4</th>\n",
              "      <td>71</td>\n",
              "      <td>20.10</td>\n",
              "      <td>1389.6</td>\n",
              "      <td>Female</td>\n",
              "      <td>0</td>\n",
              "      <td>Yes</td>\n",
              "      <td>Yes</td>\n",
              "      <td>Yes</td>\n",
              "      <td>No</td>\n",
              "      <td>No</td>\n",
              "      <td>No internet service</td>\n",
              "      <td>No internet service</td>\n",
              "      <td>No internet service</td>\n",
              "      <td>No internet service</td>\n",
              "      <td>No internet service</td>\n",
              "      <td>No internet service</td>\n",
              "      <td>Two year</td>\n",
              "      <td>No</td>\n",
              "      <td>Bank transfer (automatic)</td>\n",
              "    </tr>\n",
              "  </tbody>\n",
              "</table>\n",
              "</div>"
            ],
            "text/plain": [
              "   ClientPeriod  MonthlySpending  ... IsBillingPaperless              PaymentMethod\n",
              "0            42            56.10  ...                 No    Credit card (automatic)\n",
              "1            29            98.50  ...                Yes           Electronic check\n",
              "2             9            76.25  ...                Yes           Electronic check\n",
              "3            67            74.00  ...                 No    Credit card (automatic)\n",
              "4            71            20.10  ...                 No  Bank transfer (automatic)\n",
              "\n",
              "[5 rows x 19 columns]"
            ]
          },
          "metadata": {},
          "execution_count": 211
        }
      ]
    },
    {
      "cell_type": "markdown",
      "metadata": {
        "id": "rc8Jui0LbHud"
      },
      "source": [
        "* Обучим модель c лучшими параметрами на всем датафрейме\n",
        "* Предобработаем данные теста: отнормируем числовые признаки и закодируем категориальные признаки. Сделаем предсказания"
      ]
    },
    {
      "cell_type": "code",
      "metadata": {
        "id": "O9JfL-LM_TyP",
        "colab": {
          "base_uri": "https://localhost:8080/"
        },
        "outputId": "8408316d-2bea-433c-e618-5d3ac11288e7"
      },
      "source": [
        "data = enc.transform(test[cat_cols])\n",
        "columns = enc.get_feature_names(cat_cols)\n",
        "test_cat = pd.DataFrame(data=data, columns=columns, dtype='int64')\n",
        "test_without_normalization = pd.concat([test[num_cols], test_cat], axis=1)\n",
        "test_without_normalization.head()"
      ],
      "execution_count": null,
      "outputs": [
        {
          "output_type": "execute_result",
          "data": {
            "text/html": [
              "<div>\n",
              "<style scoped>\n",
              "    .dataframe tbody tr th:only-of-type {\n",
              "        vertical-align: middle;\n",
              "    }\n",
              "\n",
              "    .dataframe tbody tr th {\n",
              "        vertical-align: top;\n",
              "    }\n",
              "\n",
              "    .dataframe thead th {\n",
              "        text-align: right;\n",
              "    }\n",
              "</style>\n",
              "<table border=\"1\" class=\"dataframe\">\n",
              "  <thead>\n",
              "    <tr style=\"text-align: right;\">\n",
              "      <th></th>\n",
              "      <th>ClientPeriod</th>\n",
              "      <th>MonthlySpending</th>\n",
              "      <th>TotalSpent</th>\n",
              "      <th>Sex_Female</th>\n",
              "      <th>Sex_Male</th>\n",
              "      <th>IsSeniorCitizen_0</th>\n",
              "      <th>IsSeniorCitizen_1</th>\n",
              "      <th>HasPartner_No</th>\n",
              "      <th>HasPartner_Yes</th>\n",
              "      <th>HasChild_No</th>\n",
              "      <th>HasChild_Yes</th>\n",
              "      <th>HasPhoneService_No</th>\n",
              "      <th>HasPhoneService_Yes</th>\n",
              "      <th>HasMultiplePhoneNumbers_No</th>\n",
              "      <th>HasMultiplePhoneNumbers_No phone service</th>\n",
              "      <th>HasMultiplePhoneNumbers_Yes</th>\n",
              "      <th>HasInternetService_DSL</th>\n",
              "      <th>HasInternetService_Fiber optic</th>\n",
              "      <th>HasInternetService_No</th>\n",
              "      <th>HasOnlineSecurityService_No</th>\n",
              "      <th>HasOnlineSecurityService_Yes</th>\n",
              "      <th>HasOnlineBackup_No</th>\n",
              "      <th>HasOnlineBackup_Yes</th>\n",
              "      <th>HasDeviceProtection_No</th>\n",
              "      <th>HasDeviceProtection_Yes</th>\n",
              "      <th>HasTechSupportAccess_No</th>\n",
              "      <th>HasTechSupportAccess_Yes</th>\n",
              "      <th>HasOnlineTV_No</th>\n",
              "      <th>HasOnlineTV_Yes</th>\n",
              "      <th>HasMovieSubscription_No</th>\n",
              "      <th>HasMovieSubscription_Yes</th>\n",
              "      <th>HasContractPhone_Month-to-month</th>\n",
              "      <th>HasContractPhone_One year</th>\n",
              "      <th>HasContractPhone_Two year</th>\n",
              "      <th>IsBillingPaperless_No</th>\n",
              "      <th>IsBillingPaperless_Yes</th>\n",
              "      <th>PaymentMethod_Bank transfer (automatic)</th>\n",
              "      <th>PaymentMethod_Credit card (automatic)</th>\n",
              "      <th>PaymentMethod_Electronic check</th>\n",
              "      <th>PaymentMethod_Mailed check</th>\n",
              "    </tr>\n",
              "  </thead>\n",
              "  <tbody>\n",
              "    <tr>\n",
              "      <th>0</th>\n",
              "      <td>42</td>\n",
              "      <td>56.10</td>\n",
              "      <td>2386.85</td>\n",
              "      <td>0</td>\n",
              "      <td>1</td>\n",
              "      <td>1</td>\n",
              "      <td>0</td>\n",
              "      <td>0</td>\n",
              "      <td>1</td>\n",
              "      <td>1</td>\n",
              "      <td>0</td>\n",
              "      <td>0</td>\n",
              "      <td>1</td>\n",
              "      <td>0</td>\n",
              "      <td>0</td>\n",
              "      <td>1</td>\n",
              "      <td>1</td>\n",
              "      <td>0</td>\n",
              "      <td>0</td>\n",
              "      <td>0</td>\n",
              "      <td>1</td>\n",
              "      <td>1</td>\n",
              "      <td>0</td>\n",
              "      <td>1</td>\n",
              "      <td>0</td>\n",
              "      <td>1</td>\n",
              "      <td>0</td>\n",
              "      <td>1</td>\n",
              "      <td>0</td>\n",
              "      <td>1</td>\n",
              "      <td>0</td>\n",
              "      <td>0</td>\n",
              "      <td>1</td>\n",
              "      <td>0</td>\n",
              "      <td>1</td>\n",
              "      <td>0</td>\n",
              "      <td>0</td>\n",
              "      <td>1</td>\n",
              "      <td>0</td>\n",
              "      <td>0</td>\n",
              "    </tr>\n",
              "    <tr>\n",
              "      <th>1</th>\n",
              "      <td>29</td>\n",
              "      <td>98.50</td>\n",
              "      <td>3004.15</td>\n",
              "      <td>0</td>\n",
              "      <td>1</td>\n",
              "      <td>0</td>\n",
              "      <td>1</td>\n",
              "      <td>0</td>\n",
              "      <td>1</td>\n",
              "      <td>1</td>\n",
              "      <td>0</td>\n",
              "      <td>0</td>\n",
              "      <td>1</td>\n",
              "      <td>0</td>\n",
              "      <td>0</td>\n",
              "      <td>1</td>\n",
              "      <td>0</td>\n",
              "      <td>1</td>\n",
              "      <td>0</td>\n",
              "      <td>1</td>\n",
              "      <td>0</td>\n",
              "      <td>1</td>\n",
              "      <td>0</td>\n",
              "      <td>0</td>\n",
              "      <td>1</td>\n",
              "      <td>1</td>\n",
              "      <td>0</td>\n",
              "      <td>0</td>\n",
              "      <td>1</td>\n",
              "      <td>0</td>\n",
              "      <td>1</td>\n",
              "      <td>1</td>\n",
              "      <td>0</td>\n",
              "      <td>0</td>\n",
              "      <td>0</td>\n",
              "      <td>1</td>\n",
              "      <td>0</td>\n",
              "      <td>0</td>\n",
              "      <td>1</td>\n",
              "      <td>0</td>\n",
              "    </tr>\n",
              "    <tr>\n",
              "      <th>2</th>\n",
              "      <td>9</td>\n",
              "      <td>76.25</td>\n",
              "      <td>684.85</td>\n",
              "      <td>0</td>\n",
              "      <td>1</td>\n",
              "      <td>1</td>\n",
              "      <td>0</td>\n",
              "      <td>1</td>\n",
              "      <td>0</td>\n",
              "      <td>1</td>\n",
              "      <td>0</td>\n",
              "      <td>0</td>\n",
              "      <td>1</td>\n",
              "      <td>0</td>\n",
              "      <td>0</td>\n",
              "      <td>1</td>\n",
              "      <td>0</td>\n",
              "      <td>1</td>\n",
              "      <td>0</td>\n",
              "      <td>1</td>\n",
              "      <td>0</td>\n",
              "      <td>1</td>\n",
              "      <td>0</td>\n",
              "      <td>1</td>\n",
              "      <td>0</td>\n",
              "      <td>1</td>\n",
              "      <td>0</td>\n",
              "      <td>1</td>\n",
              "      <td>0</td>\n",
              "      <td>1</td>\n",
              "      <td>0</td>\n",
              "      <td>1</td>\n",
              "      <td>0</td>\n",
              "      <td>0</td>\n",
              "      <td>0</td>\n",
              "      <td>1</td>\n",
              "      <td>0</td>\n",
              "      <td>0</td>\n",
              "      <td>1</td>\n",
              "      <td>0</td>\n",
              "    </tr>\n",
              "    <tr>\n",
              "      <th>3</th>\n",
              "      <td>67</td>\n",
              "      <td>74.00</td>\n",
              "      <td>4868.4</td>\n",
              "      <td>1</td>\n",
              "      <td>0</td>\n",
              "      <td>1</td>\n",
              "      <td>0</td>\n",
              "      <td>0</td>\n",
              "      <td>1</td>\n",
              "      <td>0</td>\n",
              "      <td>1</td>\n",
              "      <td>0</td>\n",
              "      <td>1</td>\n",
              "      <td>0</td>\n",
              "      <td>0</td>\n",
              "      <td>1</td>\n",
              "      <td>1</td>\n",
              "      <td>0</td>\n",
              "      <td>0</td>\n",
              "      <td>0</td>\n",
              "      <td>1</td>\n",
              "      <td>0</td>\n",
              "      <td>1</td>\n",
              "      <td>1</td>\n",
              "      <td>0</td>\n",
              "      <td>0</td>\n",
              "      <td>1</td>\n",
              "      <td>0</td>\n",
              "      <td>1</td>\n",
              "      <td>1</td>\n",
              "      <td>0</td>\n",
              "      <td>0</td>\n",
              "      <td>0</td>\n",
              "      <td>1</td>\n",
              "      <td>1</td>\n",
              "      <td>0</td>\n",
              "      <td>0</td>\n",
              "      <td>1</td>\n",
              "      <td>0</td>\n",
              "      <td>0</td>\n",
              "    </tr>\n",
              "    <tr>\n",
              "      <th>4</th>\n",
              "      <td>71</td>\n",
              "      <td>20.10</td>\n",
              "      <td>1389.6</td>\n",
              "      <td>1</td>\n",
              "      <td>0</td>\n",
              "      <td>1</td>\n",
              "      <td>0</td>\n",
              "      <td>0</td>\n",
              "      <td>1</td>\n",
              "      <td>0</td>\n",
              "      <td>1</td>\n",
              "      <td>0</td>\n",
              "      <td>1</td>\n",
              "      <td>1</td>\n",
              "      <td>0</td>\n",
              "      <td>0</td>\n",
              "      <td>0</td>\n",
              "      <td>0</td>\n",
              "      <td>1</td>\n",
              "      <td>0</td>\n",
              "      <td>0</td>\n",
              "      <td>0</td>\n",
              "      <td>0</td>\n",
              "      <td>0</td>\n",
              "      <td>0</td>\n",
              "      <td>0</td>\n",
              "      <td>0</td>\n",
              "      <td>0</td>\n",
              "      <td>0</td>\n",
              "      <td>0</td>\n",
              "      <td>0</td>\n",
              "      <td>0</td>\n",
              "      <td>0</td>\n",
              "      <td>1</td>\n",
              "      <td>1</td>\n",
              "      <td>0</td>\n",
              "      <td>1</td>\n",
              "      <td>0</td>\n",
              "      <td>0</td>\n",
              "      <td>0</td>\n",
              "    </tr>\n",
              "  </tbody>\n",
              "</table>\n",
              "</div>"
            ],
            "text/plain": [
              "   ClientPeriod  ...  PaymentMethod_Mailed check\n",
              "0            42  ...                           0\n",
              "1            29  ...                           0\n",
              "2             9  ...                           0\n",
              "3            67  ...                           0\n",
              "4            71  ...                           0\n",
              "\n",
              "[5 rows x 40 columns]"
            ]
          },
          "metadata": {},
          "execution_count": 212
        }
      ]
    },
    {
      "cell_type": "code",
      "metadata": {
        "id": "3g15y1XoAwdX",
        "colab": {
          "base_uri": "https://localhost:8080/"
        },
        "outputId": "0ef934ad-13dd-40a5-9389-a4f6c6f35e26"
      },
      "source": [
        "mms = MinMaxScaler()\n",
        "train = mms.fit_transform(X)\n",
        "data = mms.transform(test_without_normalization)\n",
        "test_with_normalization = pd.DataFrame(data=data, columns=test_without_normalization.columns)\n",
        "test_with_normalization.head()"
      ],
      "execution_count": null,
      "outputs": [
        {
          "output_type": "execute_result",
          "data": {
            "text/html": [
              "<div>\n",
              "<style scoped>\n",
              "    .dataframe tbody tr th:only-of-type {\n",
              "        vertical-align: middle;\n",
              "    }\n",
              "\n",
              "    .dataframe tbody tr th {\n",
              "        vertical-align: top;\n",
              "    }\n",
              "\n",
              "    .dataframe thead th {\n",
              "        text-align: right;\n",
              "    }\n",
              "</style>\n",
              "<table border=\"1\" class=\"dataframe\">\n",
              "  <thead>\n",
              "    <tr style=\"text-align: right;\">\n",
              "      <th></th>\n",
              "      <th>ClientPeriod</th>\n",
              "      <th>MonthlySpending</th>\n",
              "      <th>TotalSpent</th>\n",
              "      <th>Sex_Female</th>\n",
              "      <th>Sex_Male</th>\n",
              "      <th>IsSeniorCitizen_0</th>\n",
              "      <th>IsSeniorCitizen_1</th>\n",
              "      <th>HasPartner_No</th>\n",
              "      <th>HasPartner_Yes</th>\n",
              "      <th>HasChild_No</th>\n",
              "      <th>HasChild_Yes</th>\n",
              "      <th>HasPhoneService_No</th>\n",
              "      <th>HasPhoneService_Yes</th>\n",
              "      <th>HasMultiplePhoneNumbers_No</th>\n",
              "      <th>HasMultiplePhoneNumbers_No phone service</th>\n",
              "      <th>HasMultiplePhoneNumbers_Yes</th>\n",
              "      <th>HasInternetService_DSL</th>\n",
              "      <th>HasInternetService_Fiber optic</th>\n",
              "      <th>HasInternetService_No</th>\n",
              "      <th>HasOnlineSecurityService_No</th>\n",
              "      <th>HasOnlineSecurityService_Yes</th>\n",
              "      <th>HasOnlineBackup_No</th>\n",
              "      <th>HasOnlineBackup_Yes</th>\n",
              "      <th>HasDeviceProtection_No</th>\n",
              "      <th>HasDeviceProtection_Yes</th>\n",
              "      <th>HasTechSupportAccess_No</th>\n",
              "      <th>HasTechSupportAccess_Yes</th>\n",
              "      <th>HasOnlineTV_No</th>\n",
              "      <th>HasOnlineTV_Yes</th>\n",
              "      <th>HasMovieSubscription_No</th>\n",
              "      <th>HasMovieSubscription_Yes</th>\n",
              "      <th>HasContractPhone_Month-to-month</th>\n",
              "      <th>HasContractPhone_One year</th>\n",
              "      <th>HasContractPhone_Two year</th>\n",
              "      <th>IsBillingPaperless_No</th>\n",
              "      <th>IsBillingPaperless_Yes</th>\n",
              "      <th>PaymentMethod_Bank transfer (automatic)</th>\n",
              "      <th>PaymentMethod_Credit card (automatic)</th>\n",
              "      <th>PaymentMethod_Electronic check</th>\n",
              "      <th>PaymentMethod_Mailed check</th>\n",
              "    </tr>\n",
              "  </thead>\n",
              "  <tbody>\n",
              "    <tr>\n",
              "      <th>0</th>\n",
              "      <td>0.583333</td>\n",
              "      <td>0.376617</td>\n",
              "      <td>0.274831</td>\n",
              "      <td>0.0</td>\n",
              "      <td>1.0</td>\n",
              "      <td>1.0</td>\n",
              "      <td>0.0</td>\n",
              "      <td>0.0</td>\n",
              "      <td>1.0</td>\n",
              "      <td>1.0</td>\n",
              "      <td>0.0</td>\n",
              "      <td>0.0</td>\n",
              "      <td>1.0</td>\n",
              "      <td>0.0</td>\n",
              "      <td>0.0</td>\n",
              "      <td>1.0</td>\n",
              "      <td>1.0</td>\n",
              "      <td>0.0</td>\n",
              "      <td>0.0</td>\n",
              "      <td>0.0</td>\n",
              "      <td>1.0</td>\n",
              "      <td>1.0</td>\n",
              "      <td>0.0</td>\n",
              "      <td>1.0</td>\n",
              "      <td>0.0</td>\n",
              "      <td>1.0</td>\n",
              "      <td>0.0</td>\n",
              "      <td>1.0</td>\n",
              "      <td>0.0</td>\n",
              "      <td>1.0</td>\n",
              "      <td>0.0</td>\n",
              "      <td>0.0</td>\n",
              "      <td>1.0</td>\n",
              "      <td>0.0</td>\n",
              "      <td>1.0</td>\n",
              "      <td>0.0</td>\n",
              "      <td>0.0</td>\n",
              "      <td>1.0</td>\n",
              "      <td>0.0</td>\n",
              "      <td>0.0</td>\n",
              "    </tr>\n",
              "    <tr>\n",
              "      <th>1</th>\n",
              "      <td>0.402778</td>\n",
              "      <td>0.798507</td>\n",
              "      <td>0.345909</td>\n",
              "      <td>0.0</td>\n",
              "      <td>1.0</td>\n",
              "      <td>0.0</td>\n",
              "      <td>1.0</td>\n",
              "      <td>0.0</td>\n",
              "      <td>1.0</td>\n",
              "      <td>1.0</td>\n",
              "      <td>0.0</td>\n",
              "      <td>0.0</td>\n",
              "      <td>1.0</td>\n",
              "      <td>0.0</td>\n",
              "      <td>0.0</td>\n",
              "      <td>1.0</td>\n",
              "      <td>0.0</td>\n",
              "      <td>1.0</td>\n",
              "      <td>0.0</td>\n",
              "      <td>1.0</td>\n",
              "      <td>0.0</td>\n",
              "      <td>1.0</td>\n",
              "      <td>0.0</td>\n",
              "      <td>0.0</td>\n",
              "      <td>1.0</td>\n",
              "      <td>1.0</td>\n",
              "      <td>0.0</td>\n",
              "      <td>0.0</td>\n",
              "      <td>1.0</td>\n",
              "      <td>0.0</td>\n",
              "      <td>1.0</td>\n",
              "      <td>1.0</td>\n",
              "      <td>0.0</td>\n",
              "      <td>0.0</td>\n",
              "      <td>0.0</td>\n",
              "      <td>1.0</td>\n",
              "      <td>0.0</td>\n",
              "      <td>0.0</td>\n",
              "      <td>1.0</td>\n",
              "      <td>0.0</td>\n",
              "    </tr>\n",
              "    <tr>\n",
              "      <th>2</th>\n",
              "      <td>0.125000</td>\n",
              "      <td>0.577114</td>\n",
              "      <td>0.078856</td>\n",
              "      <td>0.0</td>\n",
              "      <td>1.0</td>\n",
              "      <td>1.0</td>\n",
              "      <td>0.0</td>\n",
              "      <td>1.0</td>\n",
              "      <td>0.0</td>\n",
              "      <td>1.0</td>\n",
              "      <td>0.0</td>\n",
              "      <td>0.0</td>\n",
              "      <td>1.0</td>\n",
              "      <td>0.0</td>\n",
              "      <td>0.0</td>\n",
              "      <td>1.0</td>\n",
              "      <td>0.0</td>\n",
              "      <td>1.0</td>\n",
              "      <td>0.0</td>\n",
              "      <td>1.0</td>\n",
              "      <td>0.0</td>\n",
              "      <td>1.0</td>\n",
              "      <td>0.0</td>\n",
              "      <td>1.0</td>\n",
              "      <td>0.0</td>\n",
              "      <td>1.0</td>\n",
              "      <td>0.0</td>\n",
              "      <td>1.0</td>\n",
              "      <td>0.0</td>\n",
              "      <td>1.0</td>\n",
              "      <td>0.0</td>\n",
              "      <td>1.0</td>\n",
              "      <td>0.0</td>\n",
              "      <td>0.0</td>\n",
              "      <td>0.0</td>\n",
              "      <td>1.0</td>\n",
              "      <td>0.0</td>\n",
              "      <td>0.0</td>\n",
              "      <td>1.0</td>\n",
              "      <td>0.0</td>\n",
              "    </tr>\n",
              "    <tr>\n",
              "      <th>3</th>\n",
              "      <td>0.930556</td>\n",
              "      <td>0.554726</td>\n",
              "      <td>0.560566</td>\n",
              "      <td>1.0</td>\n",
              "      <td>0.0</td>\n",
              "      <td>1.0</td>\n",
              "      <td>0.0</td>\n",
              "      <td>0.0</td>\n",
              "      <td>1.0</td>\n",
              "      <td>0.0</td>\n",
              "      <td>1.0</td>\n",
              "      <td>0.0</td>\n",
              "      <td>1.0</td>\n",
              "      <td>0.0</td>\n",
              "      <td>0.0</td>\n",
              "      <td>1.0</td>\n",
              "      <td>1.0</td>\n",
              "      <td>0.0</td>\n",
              "      <td>0.0</td>\n",
              "      <td>0.0</td>\n",
              "      <td>1.0</td>\n",
              "      <td>0.0</td>\n",
              "      <td>1.0</td>\n",
              "      <td>1.0</td>\n",
              "      <td>0.0</td>\n",
              "      <td>0.0</td>\n",
              "      <td>1.0</td>\n",
              "      <td>0.0</td>\n",
              "      <td>1.0</td>\n",
              "      <td>1.0</td>\n",
              "      <td>0.0</td>\n",
              "      <td>0.0</td>\n",
              "      <td>0.0</td>\n",
              "      <td>1.0</td>\n",
              "      <td>1.0</td>\n",
              "      <td>0.0</td>\n",
              "      <td>0.0</td>\n",
              "      <td>1.0</td>\n",
              "      <td>0.0</td>\n",
              "      <td>0.0</td>\n",
              "    </tr>\n",
              "    <tr>\n",
              "      <th>4</th>\n",
              "      <td>0.986111</td>\n",
              "      <td>0.018408</td>\n",
              "      <td>0.160004</td>\n",
              "      <td>1.0</td>\n",
              "      <td>0.0</td>\n",
              "      <td>1.0</td>\n",
              "      <td>0.0</td>\n",
              "      <td>0.0</td>\n",
              "      <td>1.0</td>\n",
              "      <td>0.0</td>\n",
              "      <td>1.0</td>\n",
              "      <td>0.0</td>\n",
              "      <td>1.0</td>\n",
              "      <td>1.0</td>\n",
              "      <td>0.0</td>\n",
              "      <td>0.0</td>\n",
              "      <td>0.0</td>\n",
              "      <td>0.0</td>\n",
              "      <td>1.0</td>\n",
              "      <td>0.0</td>\n",
              "      <td>0.0</td>\n",
              "      <td>0.0</td>\n",
              "      <td>0.0</td>\n",
              "      <td>0.0</td>\n",
              "      <td>0.0</td>\n",
              "      <td>0.0</td>\n",
              "      <td>0.0</td>\n",
              "      <td>0.0</td>\n",
              "      <td>0.0</td>\n",
              "      <td>0.0</td>\n",
              "      <td>0.0</td>\n",
              "      <td>0.0</td>\n",
              "      <td>0.0</td>\n",
              "      <td>1.0</td>\n",
              "      <td>1.0</td>\n",
              "      <td>0.0</td>\n",
              "      <td>1.0</td>\n",
              "      <td>0.0</td>\n",
              "      <td>0.0</td>\n",
              "      <td>0.0</td>\n",
              "    </tr>\n",
              "  </tbody>\n",
              "</table>\n",
              "</div>"
            ],
            "text/plain": [
              "   ClientPeriod  ...  PaymentMethod_Mailed check\n",
              "0      0.583333  ...                         0.0\n",
              "1      0.402778  ...                         0.0\n",
              "2      0.125000  ...                         0.0\n",
              "3      0.930556  ...                         0.0\n",
              "4      0.986111  ...                         0.0\n",
              "\n",
              "[5 rows x 40 columns]"
            ]
          },
          "metadata": {},
          "execution_count": 213
        }
      ]
    },
    {
      "cell_type": "code",
      "metadata": {
        "id": "YJHcRIy8B4LF"
      },
      "source": [
        "lr_best = LogisticRegression(penalty='l2', C=100, class_weight='balanced', \n",
        "                             random_state=42, solver='liblinear', max_iter=200)\n",
        "lr_best.fit(train, y);"
      ],
      "execution_count": null,
      "outputs": []
    },
    {
      "cell_type": "code",
      "metadata": {
        "id": "L7rIOBkBBHc-"
      },
      "source": [
        "submission = pd.read_csv('submission.csv')\n",
        "submission['Churn'] = lr_best.predict_proba(test_with_normalization)[:, 1]\n",
        "submission.to_csv('lr_submission.csv', index=False)"
      ],
      "execution_count": null,
      "outputs": []
    },
    {
      "cell_type": "code",
      "metadata": {
        "id": "WsSZHsOfDoo8",
        "colab": {
          "base_uri": "https://localhost:8080/"
        },
        "outputId": "57667e30-67f4-4e68-e0e8-15da060c7d5a"
      },
      "source": [
        "submission['Churn']"
      ],
      "execution_count": null,
      "outputs": [
        {
          "output_type": "execute_result",
          "data": {
            "text/plain": [
              "0       0.111584\n",
              "1       0.884296\n",
              "2       0.848596\n",
              "3       0.018167\n",
              "4       0.003804\n",
              "          ...   \n",
              "1756    0.224958\n",
              "1757    0.057027\n",
              "1758    0.881198\n",
              "1759    0.834052\n",
              "1760    0.029939\n",
              "Name: Churn, Length: 1761, dtype: float64"
            ]
          },
          "metadata": {},
          "execution_count": 216
        }
      ]
    },
    {
      "cell_type": "markdown",
      "metadata": {
        "id": "-9_oTFB1Ei04"
      },
      "source": [
        "Результат: 0.84496"
      ]
    },
    {
      "cell_type": "markdown",
      "metadata": {
        "id": "mEx0khBEFV10"
      },
      "source": [
        "## Решающее дерево"
      ]
    },
    {
      "cell_type": "markdown",
      "metadata": {
        "id": "rHjtOY3rdQTM"
      },
      "source": [
        "Выберем лучшие параметры criterion, max_depth, min_samples_leaf и max_features, используя кросс-валидацию. Здесь уже не нужно нормировать числовые признаки."
      ]
    },
    {
      "cell_type": "code",
      "metadata": {
        "id": "oYYnolh1FYa9"
      },
      "source": [
        "dtc = DecisionTreeClassifier(random_state=42, class_weight='balanced')\n",
        "\n",
        "params = {\n",
        "    'criterion': ['gini', 'entropy'],\n",
        "    'max_depth': np.arange(1, 30),\n",
        "    'min_samples_leaf': [5, 10, 20, 50, 100],\n",
        "    'max_features': ['sqrt', 'log2']\n",
        "}\n",
        "\n",
        "dtc_grid = GridSearchCV(\n",
        "    estimator=dtc,\n",
        "    param_grid=params,\n",
        "    scoring='roc_auc',\n",
        "    refit=True,\n",
        "    cv=5,\n",
        "    verbose=0\n",
        ")\n",
        "\n",
        "dtc_grid.fit(X_train, y_train);"
      ],
      "execution_count": null,
      "outputs": []
    },
    {
      "cell_type": "markdown",
      "metadata": {
        "id": "9nY3rkILjhe8"
      },
      "source": [
        "Лучшие параметры:"
      ]
    },
    {
      "cell_type": "code",
      "metadata": {
        "id": "D7ZRpZD8Ykrk",
        "colab": {
          "base_uri": "https://localhost:8080/"
        },
        "outputId": "914c1d5c-7b9a-4b13-e963-69a91560db2f"
      },
      "source": [
        "best_params = dtc_grid.best_params_\n",
        "for param_name in best_params:\n",
        "  print(f'{param_name}: {best_params[param_name]}')"
      ],
      "execution_count": null,
      "outputs": [
        {
          "output_type": "stream",
          "name": "stdout",
          "text": [
            "criterion: entropy\n",
            "max_depth: 12\n",
            "max_features: log2\n",
            "min_samples_leaf: 20\n"
          ]
        }
      ]
    },
    {
      "cell_type": "markdown",
      "metadata": {
        "id": "QOzozXNxjj2l"
      },
      "source": [
        "Лучшее значение метрики ROC AUC:"
      ]
    },
    {
      "cell_type": "code",
      "metadata": {
        "id": "jbBFJO6KZFA7",
        "colab": {
          "base_uri": "https://localhost:8080/"
        },
        "outputId": "d9987279-76f7-42f6-fe8a-93fb9453fac8"
      },
      "source": [
        "dtc_grid.best_score_"
      ],
      "execution_count": null,
      "outputs": [
        {
          "output_type": "execute_result",
          "data": {
            "text/plain": [
              "0.8115939327732716"
            ]
          },
          "metadata": {},
          "execution_count": 219
        }
      ]
    },
    {
      "cell_type": "markdown",
      "metadata": {
        "id": "ijkbltTSjtxp"
      },
      "source": [
        "Вычислим качество на обучении и тесте:"
      ]
    },
    {
      "cell_type": "code",
      "metadata": {
        "id": "XEJWx22kZGgt",
        "colab": {
          "base_uri": "https://localhost:8080/",
          "height": 404
        },
        "outputId": "e59c4651-f1ce-4505-8a4a-d723d7eb088f"
      },
      "source": [
        "plot_roc_auc(dtc_grid, X_train, X_test, y_train, y_test, 'Решающее дерево')"
      ],
      "execution_count": null,
      "outputs": [
        {
          "output_type": "display_data",
          "data": {
            "image/png": "[encoded data removed]",
            "text/plain": [
              "<Figure size 792x432 with 1 Axes>"
            ]
          },
          "metadata": {
            "needs_background": "light"
          }
        }
      ]
    },
    {
      "cell_type": "markdown",
      "metadata": {
        "id": "ineWuwycdD1J"
      },
      "source": [
        "### Kaggle"
      ]
    },
    {
      "cell_type": "markdown",
      "metadata": {
        "id": "EDguc05qj8ja"
      },
      "source": [
        "Обучим модель с лучшими параметрами на всем датфрейме и сделаем предсказания:"
      ]
    },
    {
      "cell_type": "code",
      "metadata": {
        "id": "yMYp89AIZbp5"
      },
      "source": [
        "dtc_best = DecisionTreeClassifier(criterion='entropy', max_depth=12, max_features='log2', \n",
        "                                  min_samples_leaf=20, random_state=42, class_weight='balanced')\n",
        "dtc_best.fit(X, y);"
      ],
      "execution_count": null,
      "outputs": []
    },
    {
      "cell_type": "code",
      "metadata": {
        "id": "p9C6mpgDa2Dp"
      },
      "source": [
        "submission = pd.read_csv('submission.csv')\n",
        "submission['Churn'] = dtc_best.predict_proba(test_without_normalization)[:, 1]\n",
        "submission.to_csv('dtc_submission.csv', index=False)"
      ],
      "execution_count": null,
      "outputs": []
    },
    {
      "cell_type": "code",
      "metadata": {
        "id": "HEK56aipa4VI",
        "colab": {
          "base_uri": "https://localhost:8080/"
        },
        "outputId": "9cddb448-88dd-45c4-91a7-ee39601348b1"
      },
      "source": [
        "submission['Churn']"
      ],
      "execution_count": null,
      "outputs": [
        {
          "output_type": "execute_result",
          "data": {
            "text/plain": [
              "0       0.281044\n",
              "1       0.802148\n",
              "2       0.908418\n",
              "3       0.000000\n",
              "4       0.000000\n",
              "          ...   \n",
              "1756    0.414696\n",
              "1757    0.000000\n",
              "1758    0.706655\n",
              "1759    0.837047\n",
              "1760    0.000000\n",
              "Name: Churn, Length: 1761, dtype: float64"
            ]
          },
          "metadata": {},
          "execution_count": 223
        }
      ]
    },
    {
      "cell_type": "markdown",
      "metadata": {
        "id": "70_8ioC3cLhv"
      },
      "source": [
        "Результат: 0.81378"
      ]
    },
    {
      "cell_type": "markdown",
      "metadata": {
        "id": "WZWQPoJEc9K8"
      },
      "source": [
        "## Случайный лес"
      ]
    },
    {
      "cell_type": "markdown",
      "metadata": {
        "id": "PavFZBe5mmKo"
      },
      "source": [
        "Выберем лучшие параметры n_estimators, max_depth и min_samples_leaf, используя кросс-валидацию. Здесь уже не нужно нормировать числовые признаки."
      ]
    },
    {
      "cell_type": "code",
      "metadata": {
        "id": "KTHwpoTedACB"
      },
      "source": [
        "rfc = RandomForestClassifier(criterion='entropy', max_features='log2', \n",
        "                             random_state=42, class_weight='balanced', n_jobs=-1)\n",
        "\n",
        "params = {\n",
        "    'n_estimators': [50, 100],\n",
        "    'max_depth': [5, 10, 15, 20],\n",
        "    'min_samples_leaf': [5, 10, 20, 50]\n",
        "}\n",
        "\n",
        "rfc_grid = GridSearchCV(\n",
        "    estimator=rfc,\n",
        "    param_grid=params,\n",
        "    scoring='roc_auc',\n",
        "    refit=True,\n",
        "    cv=5,\n",
        "    verbose=0,\n",
        "    n_jobs=-1\n",
        ")\n",
        "\n",
        "rfc_grid.fit(X_train, y_train);"
      ],
      "execution_count": null,
      "outputs": []
    },
    {
      "cell_type": "markdown",
      "metadata": {
        "id": "ZAum8YnDmr7x"
      },
      "source": [
        "Лучшие параметры:"
      ]
    },
    {
      "cell_type": "code",
      "metadata": {
        "id": "3jw7B3_vhZ-S",
        "colab": {
          "base_uri": "https://localhost:8080/"
        },
        "outputId": "099b5560-ef13-420a-a749-4b3c5dabb97e"
      },
      "source": [
        "best_params = rfc_grid.best_params_\n",
        "for param_name in best_params:\n",
        "  print(f'{param_name}: {best_params[param_name]}')"
      ],
      "execution_count": null,
      "outputs": [
        {
          "output_type": "stream",
          "name": "stdout",
          "text": [
            "max_depth: 20\n",
            "min_samples_leaf: 10\n",
            "n_estimators: 50\n"
          ]
        }
      ]
    },
    {
      "cell_type": "markdown",
      "metadata": {
        "id": "uToRBFnGmt6Z"
      },
      "source": [
        "Лучшее значение метрики ROC AUC:"
      ]
    },
    {
      "cell_type": "code",
      "metadata": {
        "id": "U6X8cCxJhb4q",
        "colab": {
          "base_uri": "https://localhost:8080/"
        },
        "outputId": "6707b8cf-13f9-4763-9fef-9d36ae3e2ae7"
      },
      "source": [
        "rfc_grid.best_score_"
      ],
      "execution_count": null,
      "outputs": [
        {
          "output_type": "execute_result",
          "data": {
            "text/plain": [
              "0.8458911780897109"
            ]
          },
          "metadata": {},
          "execution_count": 226
        }
      ]
    },
    {
      "cell_type": "markdown",
      "metadata": {
        "id": "EW5f6usQmyyd"
      },
      "source": [
        "Вычислим качество на обучении и тесте:"
      ]
    },
    {
      "cell_type": "code",
      "metadata": {
        "id": "AgfSTJEGhggA",
        "colab": {
          "base_uri": "https://localhost:8080/"
        },
        "outputId": "0c25e137-b198-41c3-a623-a7057a2ed042"
      },
      "source": [
        "plot_roc_auc(rfc_grid, X_train, X_test, y_train, y_test, 'Случайный лес')"
      ],
      "execution_count": null,
      "outputs": [
        {
          "output_type": "display_data",
          "data": {
            "image/png": "[encoded data removed]",
            "text/plain": [
              "<Figure size 792x432 with 1 Axes>"
            ]
          },
          "metadata": {
            "needs_background": "light"
          }
        }
      ]
    },
    {
      "cell_type": "markdown",
      "metadata": {
        "id": "tB4dutiPh8nE"
      },
      "source": [
        "### Kaggle"
      ]
    },
    {
      "cell_type": "markdown",
      "metadata": {
        "id": "fWC7Avq8m8T2"
      },
      "source": [
        "Обучим модель с лучшими параметрами на всем датфрейме и сделаем предсказания:"
      ]
    },
    {
      "cell_type": "code",
      "metadata": {
        "id": "68Yopzxhh4z5"
      },
      "source": [
        "rfc_best = RandomForestClassifier(n_estimators=50, criterion='entropy', max_depth=20, max_features='log2', \n",
        "                                  min_samples_leaf=10, random_state=42, class_weight='balanced')\n",
        "rfc_best.fit(X, y);"
      ],
      "execution_count": null,
      "outputs": []
    },
    {
      "cell_type": "code",
      "metadata": {
        "id": "i68njoSOiNtR"
      },
      "source": [
        "submission = pd.read_csv('submission.csv')\n",
        "submission['Churn'] = rfc_best.predict_proba(test_without_normalization)[:, 1]\n",
        "submission.to_csv('rfc_submission.csv', index=False)"
      ],
      "execution_count": null,
      "outputs": []
    },
    {
      "cell_type": "code",
      "metadata": {
        "id": "jebpfTPJiO7v",
        "colab": {
          "base_uri": "https://localhost:8080/"
        },
        "outputId": "68279fcb-57c1-4168-8782-4446d86bcac1"
      },
      "source": [
        "submission['Churn']"
      ],
      "execution_count": null,
      "outputs": [
        {
          "output_type": "execute_result",
          "data": {
            "text/plain": [
              "0       0.118310\n",
              "1       0.857134\n",
              "2       0.799558\n",
              "3       0.051675\n",
              "4       0.036345\n",
              "          ...   \n",
              "1756    0.382722\n",
              "1757    0.101550\n",
              "1758    0.905821\n",
              "1759    0.726410\n",
              "1760    0.014040\n",
              "Name: Churn, Length: 1761, dtype: float64"
            ]
          },
          "metadata": {},
          "execution_count": 230
        }
      ]
    },
    {
      "cell_type": "markdown",
      "metadata": {
        "id": "FWbRbhq1nCAV"
      },
      "source": [
        "Результат:0.84787"
      ]
    },
    {
      "cell_type": "markdown",
      "metadata": {
        "id": "xixUDDbpnKFK"
      },
      "source": [
        "## Применение градиентного бустинга (2 балла)"
      ]
    },
    {
      "cell_type": "code",
      "metadata": {
        "id": "iOUuBQ-9IS0r"
      },
      "source": [
        "X = df[feature_cols]\n",
        "y = df[target_col]"
      ],
      "execution_count": null,
      "outputs": []
    },
    {
      "cell_type": "markdown",
      "metadata": {
        "id": "jE2RFLAhn0OR"
      },
      "source": [
        "Пока разделим выборку на обучение и тест в соотношении 80:20 и протестируем catboost co стандартными параметрами."
      ]
    },
    {
      "cell_type": "code",
      "metadata": {
        "id": "QS5ZlZLrIXTf"
      },
      "source": [
        "X_train, X_test, y_train, y_test = train_test_split(X, y, train_size=0.8, random_state=42)"
      ],
      "execution_count": null,
      "outputs": []
    },
    {
      "cell_type": "code",
      "metadata": {
        "id": "fg7lIeZ156vw"
      },
      "source": [
        "cbc = CatBoostClassifier(cat_features=cat_cols, random_seed=42)\n",
        "cbc.fit(X_train, y_train, verbose=False);"
      ],
      "execution_count": null,
      "outputs": []
    },
    {
      "cell_type": "code",
      "metadata": {
        "id": "ty73h7aH59nO",
        "colab": {
          "base_uri": "https://localhost:8080/",
          "height": 404
        },
        "outputId": "216c1b29-53a5-475d-db6d-f2bb595f5bf3"
      },
      "source": [
        "plot_roc_auc(cbc, X_train, X_test, y_train, y_test, 'Градиентный бустинг со стандартными параметрами')"
      ],
      "execution_count": null,
      "outputs": [
        {
          "output_type": "display_data",
          "data": {
            "image/png": "[encoded data removed]",
            "text/plain": [
              "<Figure size 792x432 with 1 Axes>"
            ]
          },
          "metadata": {
            "needs_background": "light"
          }
        }
      ]
    },
    {
      "cell_type": "markdown",
      "metadata": {
        "id": "UbQXzRFjo_Fr"
      },
      "source": [
        "Теперь еще раз разделим выборку, но уже на обучение, валидацию и тест в соотношении 70:15:15. Используем валидационную выборку для выбора лучшего количества деревьев и learning rate:"
      ]
    },
    {
      "cell_type": "code",
      "metadata": {
        "id": "uARgVyhY5rXC"
      },
      "source": [
        "X_train, X_rem, y_train, y_rem = train_test_split(X, y, train_size=0.7, random_state=42)\n",
        "X_val, X_test, y_val, y_test = train_test_split(X_rem, y_rem, test_size=0.5, random_state=42)"
      ],
      "execution_count": null,
      "outputs": []
    },
    {
      "cell_type": "code",
      "metadata": {
        "id": "j3IwXo586Bmz"
      },
      "source": [
        "train_scores = []\n",
        "val_scores = []\n",
        "params = []\n",
        "for n_trees in [50, 100, 300, 500]:\n",
        "  for lr in [0.03, 0.05, 0.3, 0.5]:\n",
        "    cbc = CatBoostClassifier(iterations=n_trees, learning_rate=lr, random_seed=42, \n",
        "                            class_weights=[0.7, 0.3], cat_features=cat_cols)\n",
        "    cbc.fit(X_train, y_train, verbose=False)\n",
        "    y_train_pred = cbc.predict_proba(X_train)[:, 1]\n",
        "    y_val_pred = cbc.predict_proba(X_val)[:, 1]\n",
        "    train_roc_auc = roc_auc_score(y_train, y_train_pred)  \n",
        "    val_roc_auc = roc_auc_score(y_val, y_val_pred)\n",
        "    train_scores.append(train_roc_auc)\n",
        "    val_scores.append(val_roc_auc)\n",
        "    params.append({'n_trees': n_trees, 'learning_rate': lr})"
      ],
      "execution_count": null,
      "outputs": []
    },
    {
      "cell_type": "markdown",
      "metadata": {
        "id": "CXh68oKcpcO0"
      },
      "source": [
        "Лучшие параметры и лучшее качество по метрике ROC AUC:"
      ]
    },
    {
      "cell_type": "code",
      "metadata": {
        "colab": {
          "base_uri": "https://localhost:8080/"
        },
        "id": "fsL2RQ-lBXiM",
        "outputId": "93f963d6-f597-4c45-88eb-8973a01bd80c"
      },
      "source": [
        "best_model_idx = np.argmax(val_scores)\n",
        "best_params = params[best_model_idx]\n",
        "for param_name in best_params:\n",
        "  print(f'{param_name}: {best_params[param_name]}')\n",
        "print(max(val_scores))"
      ],
      "execution_count": null,
      "outputs": [
        {
          "output_type": "stream",
          "name": "stdout",
          "text": [
            "n_trees: 300\n",
            "learning_rate: 0.03\n",
            "0.8360070493868845\n"
          ]
        }
      ]
    },
    {
      "cell_type": "markdown",
      "metadata": {
        "id": "sy7dKDCuqAPN"
      },
      "source": [
        "Качество на обучении и тесте:"
      ]
    },
    {
      "cell_type": "code",
      "metadata": {
        "colab": {
          "base_uri": "https://localhost:8080/",
          "height": 404
        },
        "id": "M8lqwRvPBWya",
        "outputId": "c596df41-38ba-48e4-97b4-eb97957e2451"
      },
      "source": [
        "cbc = CatBoostClassifier(iterations=300, learning_rate=0.03, random_seed=42, \n",
        "                        class_weights=[0.7, 0.3], cat_features=cat_cols)\n",
        "X_train = pd.DataFrame(data=np.vstack((X_train, X_rem)), columns=X_train.columns)\n",
        "y_train = np.hstack((y_train, y_rem))\n",
        "cbc.fit(X_train, y_train, verbose=False)\n",
        "plot_roc_auc(cbc, X_train, X_test, y_train, y_test, 'Градиентный бустинг')"
      ],
      "execution_count": null,
      "outputs": [
        {
          "output_type": "display_data",
          "data": {
            "image/png": "[encoded data removed]",
            "text/plain": [
              "<Figure size 792x432 with 1 Axes>"
            ]
          },
          "metadata": {
            "needs_background": "light"
          }
        }
      ]
    },
    {
      "cell_type": "markdown",
      "metadata": {
        "id": "bSna824bsZzp"
      },
      "source": [
        "Из всех моделей catboost дает лучший результат, ее и будем использовать, чтобы сделать финальные предсказания."
      ]
    },
    {
      "cell_type": "markdown",
      "metadata": {
        "id": "GlOVNVnDOpge"
      },
      "source": [
        "## Предсказания"
      ]
    },
    {
      "cell_type": "markdown",
      "metadata": {
        "id": "tof32Dvyutv9"
      },
      "source": [
        "Обучим модель на всем датафрейме и сделаем предсказания"
      ]
    },
    {
      "cell_type": "code",
      "metadata": {
        "id": "zhwaYJfHMlKN"
      },
      "source": [
        "cbc_best = CatBoostClassifier(iterations=300, learning_rate=0.03, random_seed=42, \n",
        "                              class_weights=[0.7, 0.3], cat_features=cat_cols)\n",
        "cbc_best.fit(X, y, verbose=False);"
      ],
      "execution_count": null,
      "outputs": []
    },
    {
      "cell_type": "code",
      "metadata": {
        "id": "MG337kz_MmAu"
      },
      "source": [
        "submission = pd.read_csv('submission.csv')\n",
        "test = pd.read_csv('test.csv')\n",
        "submission['Churn'] = cbc_best.predict_proba(test)[:, 1]\n",
        "submission.to_csv('cbc_submission.csv', index=False)"
      ],
      "execution_count": null,
      "outputs": []
    },
    {
      "cell_type": "code",
      "metadata": {
        "colab": {
          "base_uri": "https://localhost:8080/"
        },
        "id": "HYqJoFhlMuQB",
        "outputId": "dac668ee-6cf7-4613-d908-51c10d48329d"
      },
      "source": [
        "submission['Churn']"
      ],
      "execution_count": null,
      "outputs": [
        {
          "output_type": "execute_result",
          "data": {
            "text/plain": [
              "0       0.012840\n",
              "1       0.492583\n",
              "2       0.441989\n",
              "3       0.005056\n",
              "4       0.002118\n",
              "          ...   \n",
              "1756    0.064793\n",
              "1757    0.005406\n",
              "1758    0.710882\n",
              "1759    0.358411\n",
              "1760    0.007663\n",
              "Name: Churn, Length: 1761, dtype: float64"
            ]
          },
          "metadata": {},
          "execution_count": 241
        }
      ]
    },
    {
      "cell_type": "markdown",
      "metadata": {
        "id": "e6QusvsmgKD9"
      },
      "source": [
        "Результат: 0.85322"
      ]
    }
  ]
}